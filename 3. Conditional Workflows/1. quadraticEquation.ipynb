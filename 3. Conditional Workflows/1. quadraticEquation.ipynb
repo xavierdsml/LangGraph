{
 "cells": [
  {
   "cell_type": "markdown",
   "id": "7e1bd617",
   "metadata": {},
   "source": [
    "Import Lib"
   ]
  },
  {
   "cell_type": "code",
   "execution_count": 1,
   "id": "0a5711fe",
   "metadata": {},
   "outputs": [],
   "source": [
    "from langgraph.graph import StateGraph, START, END\n",
    "from typing import TypedDict, Literal\n",
    "import math"
   ]
  },
  {
   "cell_type": "markdown",
   "id": "692b522c",
   "metadata": {},
   "source": [
    "#### 1. State"
   ]
  },
  {
   "cell_type": "code",
   "execution_count": 2,
   "id": "1a225ac9",
   "metadata": {},
   "outputs": [],
   "source": [
    "class quadraticEquationState(TypedDict):\n",
    "  a:int\n",
    "  b:int\n",
    "  c:int\n",
    "  equation:str\n",
    "  discriminant:float\n",
    "  result:str"
   ]
  },
  {
   "cell_type": "markdown",
   "id": "f63dd743",
   "metadata": {},
   "source": [
    "##### Defining the function"
   ]
  },
  {
   "cell_type": "code",
   "execution_count": 3,
   "id": "17e3a95a",
   "metadata": {},
   "outputs": [],
   "source": [
    "def showEquation(state:quadraticEquationState)->quadraticEquationState:\n",
    "  equation = f\"{state['a']}x2 + {state['b']}x + {state['c']}\"\n",
    "\n",
    "  return {'equation':equation} "
   ]
  },
  {
   "cell_type": "code",
   "execution_count": 4,
   "id": "44d57d3a",
   "metadata": {},
   "outputs": [],
   "source": [
    "def calculateDiscriminat(state:quadraticEquationState)->quadraticEquationState:\n",
    "  discriminant = state['b']**2 - (4*state['a']*state['c'])\n",
    "\n",
    "  return {'discriminant':discriminant}"
   ]
  },
  {
   "cell_type": "code",
   "execution_count": 5,
   "id": "6eecba19",
   "metadata": {},
   "outputs": [],
   "source": [
    "def realRoots(state:quadraticEquationState)->quadraticEquationState:\n",
    "  root1 = ((-state['b'] + math.sqrt(state['discriminant'])) / (2*state['a']))\n",
    "  root2 = ((-state['b'] - math.sqrt(state['discriminant'])) / (2*state['a']))\n",
    "\n",
    "  result = f'The roots are {root1} and {root2}'\n",
    "  return {'result':result}"
   ]
  },
  {
   "cell_type": "code",
   "execution_count": 6,
   "id": "2ca85231",
   "metadata": {},
   "outputs": [],
   "source": [
    "def sameRoot(state:quadraticEquationState)->quadraticEquationState:\n",
    "  root1 = (-state['b'] / 2*state['a'])\n",
    "\n",
    "  result = f'The roots are {root1} and {root1}'\n",
    "  return {'result':result}"
   ]
  },
  {
   "cell_type": "code",
   "execution_count": 7,
   "id": "40b21097",
   "metadata": {},
   "outputs": [],
   "source": [
    "def noRealRoots(state:quadraticEquationState)->quadraticEquationState:\n",
    "\n",
    "  result = f'No real roots , both will be Imgainary roots'\n",
    "  return {'result':result}"
   ]
  },
  {
   "cell_type": "markdown",
   "id": "bae23f1d",
   "metadata": {},
   "source": [
    "condition function - a function which have another function output"
   ]
  },
  {
   "cell_type": "code",
   "execution_count": 8,
   "id": "b17e7166",
   "metadata": {},
   "outputs": [],
   "source": [
    "def checkCondition(state:quadraticEquationState)->Literal[\"realRoots\", \"sameRoot\", \"noRealRoots\"]:\n",
    "\n",
    "  if state['discriminant'] > 0:\n",
    "    return \"realRoots\"\n",
    "  elif state[\"discriminant\"] == 0:\n",
    "    return \"sameRoot\"\n",
    "  else:\n",
    "    return \"noRealRoots\""
   ]
  },
  {
   "cell_type": "markdown",
   "id": "bae1e54b",
   "metadata": {},
   "source": [
    "#### 2. Graph"
   ]
  },
  {
   "cell_type": "markdown",
   "id": "9bddacb7",
   "metadata": {},
   "source": [
    "##### 2.1 Declare the Graph"
   ]
  },
  {
   "cell_type": "code",
   "execution_count": 9,
   "id": "de6458e3",
   "metadata": {},
   "outputs": [],
   "source": [
    "graph = StateGraph(quadraticEquationState)\n",
    "\n",
    "graph.add_node('showEquation', showEquation)\n",
    "graph.add_node('calculateDiscriminat', calculateDiscriminat)\n",
    "graph.add_node('realRoots',realRoots)\n",
    "graph.add_node('sameRoot', sameRoot)\n",
    "graph.add_node('noRealRoots', noRealRoots)\n",
    "\n",
    "graph.add_edge(START, 'showEquation')\n",
    "graph.add_edge('showEquation', 'calculateDiscriminat')\n",
    "\n",
    "# condition \n",
    "graph.add_conditional_edges('calculateDiscriminat', checkCondition)\n",
    "graph.add_edge('realRoots', END)\n",
    "graph.add_edge('sameRoot', END)\n",
    "graph.add_edge('noRealRoots', END)\n",
    "\n",
    "workflow = graph.compile()"
   ]
  },
  {
   "cell_type": "markdown",
   "id": "e7c2c921",
   "metadata": {},
   "source": [
    "##### 2.2 show the Workflow"
   ]
  },
  {
   "cell_type": "code",
   "execution_count": 10,
   "id": "7693a79f",
   "metadata": {},
   "outputs": [
    {
     "data": {
      "image/png": "[encoded data removed]",
      "text/plain": [
       "<langgraph.graph.state.CompiledStateGraph object at 0x000001420675FB60>"
      ]
     },
     "execution_count": 10,
     "metadata": {},
     "output_type": "execute_result"
    }
   ],
   "source": [
    "workflow"
   ]
  },
  {
   "cell_type": "markdown",
   "id": "d2930835",
   "metadata": {},
   "source": [
    "#####"
   ]
  },
  {
   "cell_type": "markdown",
   "id": "fbaba497",
   "metadata": {},
   "source": [
    "##### 2.3 Execute the Workflow"
   ]
  },
  {
   "cell_type": "code",
   "execution_count": 13,
   "id": "25f8f520",
   "metadata": {},
   "outputs": [
    {
     "data": {
      "text/plain": [
       "{'a': 4,\n",
       " 'b': 5,\n",
       " 'c': -4,\n",
       " 'equation': '4x2 + 5x + -4',\n",
       " 'discriminant': 89,\n",
       " 'result': 'The roots are 0.5542476415070754 and -1.8042476415070754'}"
      ]
     },
     "execution_count": 13,
     "metadata": {},
     "output_type": "execute_result"
    }
   ],
   "source": [
    "initalState = {\n",
    "  'a':4,\n",
    "  'b':5,\n",
    "  'c':-4\n",
    "}\n",
    "\n",
    "workflow.invoke(initalState)"
   ]
  }
 ],
 "metadata": {
  "kernelspec": {
   "display_name": "myenv",
   "language": "python",
   "name": "python3"
  },
  "language_info": {
   "codemirror_mode": {
    "name": "ipython",
    "version": 3
   },
   "file_extension": ".py",
   "mimetype": "text/x-python",
   "name": "python",
   "nbconvert_exporter": "python",
   "pygments_lexer": "ipython3",
   "version": "3.13.5"
  }
 },
 "nbformat": 4,
 "nbformat_minor": 5
}
