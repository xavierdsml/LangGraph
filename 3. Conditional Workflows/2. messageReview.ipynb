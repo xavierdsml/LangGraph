{
 "cells": [
  {
   "cell_type": "markdown",
   "id": "eb0d47b6",
   "metadata": {},
   "source": [
    "Import Lib"
   ]
  },
  {
   "cell_type": "code",
   "execution_count": 291,
   "id": "3aeb5ca5",
   "metadata": {},
   "outputs": [],
   "source": [
    "from langgraph.graph import StateGraph, START, END\n",
    "from langchain_google_genai import ChatGoogleGenerativeAI\n",
    "from pydantic import BaseModel, Field\n",
    "from typing import TypedDict, Literal\n",
    "from dotenv import load_dotenv"
   ]
  },
  {
   "cell_type": "code",
   "execution_count": 292,
   "id": "1e6e2e01",
   "metadata": {},
   "outputs": [
    {
     "data": {
      "text/plain": [
       "True"
      ]
     },
     "execution_count": 292,
     "metadata": {},
     "output_type": "execute_result"
    }
   ],
   "source": [
    "load_dotenv()"
   ]
  },
  {
   "cell_type": "code",
   "execution_count": 293,
   "id": "593432d5",
   "metadata": {},
   "outputs": [],
   "source": [
    "model = ChatGoogleGenerativeAI(\n",
    "    model=\"gemini-2.0-flash\",\n",
    "    temperature=0.7\n",
    ")"
   ]
  },
  {
   "cell_type": "markdown",
   "id": "17c2508d",
   "metadata": {},
   "source": [
    "#### Make the model Structure"
   ]
  },
  {
   "cell_type": "code",
   "execution_count": 294,
   "id": "2a5d2bda",
   "metadata": {},
   "outputs": [],
   "source": [
    "class sentimentSchema(BaseModel):\n",
    "  sentiment:Literal[\"Positive\", \"Negative\"] = Field(description=\"Sentiment of the review\")"
   ]
  },
  {
   "cell_type": "code",
   "execution_count": 295,
   "id": "5ed19a26",
   "metadata": {},
   "outputs": [],
   "source": [
    "class diagnosisSchema(BaseModel):\n",
    "  issue:Literal['UX', 'Performance', 'Bug', 'Support', 'Other'] = Field(description=f\"I want the issue that listed in the review\")\n",
    "  tone:Literal['angry', 'frustrated', 'disappointed', 'calm'] = Field(description=\"The emotional tone expreeesed by the user or customer\")\n",
    "  urgency:Literal['low', 'medium', 'high'] = Field(description=\"How urgent or critical the issue appears to be\")"
   ]
  },
  {
   "cell_type": "code",
   "execution_count": 296,
   "id": "a61ee445",
   "metadata": {},
   "outputs": [],
   "source": [
    "structureModel = model.with_structured_output(sentimentSchema)\n",
    "diagnosisModel = model.with_structured_output(diagnosisSchema)"
   ]
  },
  {
   "cell_type": "code",
   "execution_count": 297,
   "id": "70b49358",
   "metadata": {},
   "outputs": [
    {
     "data": {
      "text/plain": [
       "sentimentSchema(sentiment='Negative')"
      ]
     },
     "execution_count": 297,
     "metadata": {},
     "output_type": "execute_result"
    }
   ],
   "source": [
    "prompt = \"What is the sentiment of the following review - The software is bad\"\n",
    "structureModel.invoke(prompt)"
   ]
  },
  {
   "cell_type": "markdown",
   "id": "19701803",
   "metadata": {},
   "source": [
    "#### 1. State"
   ]
  },
  {
   "cell_type": "code",
   "execution_count": 298,
   "id": "0939bbaa",
   "metadata": {},
   "outputs": [],
   "source": [
    "class messageReviewState(TypedDict):\n",
    "  review:str\n",
    "  sentiment:Literal[\"Positive\", \"Negative\"]\n",
    "  diagnosis:dict\n",
    "  response:str\n",
    "  "
   ]
  },
  {
   "cell_type": "markdown",
   "id": "0deffc73",
   "metadata": {},
   "source": [
    "#### Functions"
   ]
  },
  {
   "cell_type": "code",
   "execution_count": 299,
   "id": "76242419",
   "metadata": {},
   "outputs": [],
   "source": [
    "def findSentiment(state:messageReviewState)->messageReviewState:\n",
    "  prompt = f\"Give me the sentiment of the following review - {state['review']}\"\n",
    "  sentiment = structureModel.invoke(prompt).sentiment\n",
    "\n",
    "  return {'sentiment': sentiment}"
   ]
  },
  {
   "cell_type": "code",
   "execution_count": 300,
   "id": "b2920478",
   "metadata": {},
   "outputs": [],
   "source": [
    "def runDiagnosis(state:messageReviewState)->dict:\n",
    "  prompt = f\"On the basic of the review\\n {state['review']}\\n the sentiment of the customer is {state['sentiment']} & in return I want a issue type, tone of the customer and the urgency of his work \"\n",
    "  \n",
    "  response = diagnosisModel.invoke(prompt)\n",
    "  return {'diagnosis':response.model_dump()}"
   ]
  },
  {
   "cell_type": "code",
   "execution_count": 308,
   "id": "a6d44108",
   "metadata": {},
   "outputs": [],
   "source": [
    "def positiveReview(state:messageReviewState)->messageReviewState:\n",
    "  prompt = f\"You are a helful assistant\\nGenerate the {state['sentiment']},  replied to the customer on the basic on the following review that he gave - {state['review']}\\n Also , kindly ask him to give me the review on the website & the response should not be a draft one\"\n",
    "\n",
    "  response =  model.invoke(prompt).content\n",
    "  return {'response': response}"
   ]
  },
  {
   "cell_type": "code",
   "execution_count": 302,
   "id": "0cac5777",
   "metadata": {},
   "outputs": [],
   "source": [
    "def negativeReview(state:messageReviewState)->messageReviewState:\n",
    "  diagnosis = state['diagnosis']\n",
    "  prompt = f\"You are a Support assistant\\nReplied to the customer on the basic on the following review that he gave - {state['review']} and the problem that he listed so make the message in such a way that he satisfy. The problem faced by the customer is {diagnosis['issue']} and the tone is {diagnosis['tone']} write an empthatic, helpful resolution message. I don't need any draft things just pure message\" \n",
    "\n",
    "  response =  model.invoke(prompt).content\n",
    "  return {'response': response}"
   ]
  },
  {
   "cell_type": "markdown",
   "id": "7aab5e68",
   "metadata": {},
   "source": [
    "#### Conditional Function"
   ]
  },
  {
   "cell_type": "code",
   "execution_count": 303,
   "id": "bb025a96",
   "metadata": {},
   "outputs": [],
   "source": [
    "def checkSentiments(state:messageReviewState)->Literal[\"positiveReview\", \"runDiagnosis\"]:\n",
    "  if state['sentiment'] == \"Positive\":\n",
    "    return \"positiveReview\"\n",
    "  else:\n",
    "    return \"runDiagnosis\"\n"
   ]
  },
  {
   "cell_type": "markdown",
   "id": "a2193e60",
   "metadata": {},
   "source": [
    "#### 2. Graph"
   ]
  },
  {
   "cell_type": "markdown",
   "id": "28f1623c",
   "metadata": {},
   "source": [
    "##### 2.1 Defining the Graph"
   ]
  },
  {
   "cell_type": "code",
   "execution_count": 304,
   "id": "71b44dce",
   "metadata": {},
   "outputs": [],
   "source": [
    "graph = StateGraph(messageReviewState)\n",
    "\n",
    "graph.add_node('findSentiment', findSentiment)\n",
    "graph.add_node('runDiagnosis', runDiagnosis)\n",
    "graph.add_node('negativeReview', negativeReview)\n",
    "graph.add_node('positiveReview', positiveReview)\n",
    "\n",
    "graph.add_edge(START, 'findSentiment')\n",
    "\n",
    "graph.add_conditional_edges('findSentiment', checkSentiments)\n",
    "graph.add_edge('runDiagnosis', 'negativeReview')\n",
    "graph.add_edge('negativeReview', END)\n",
    "graph.add_edge('positiveReview', END)\n",
    "\n",
    "workflow = graph.compile()"
   ]
  },
  {
   "cell_type": "markdown",
   "id": "0723c4b3",
   "metadata": {},
   "source": [
    "##### 2.2 Showing the Workflow"
   ]
  },
  {
   "cell_type": "code",
   "execution_count": 305,
   "id": "b2f05d57",
   "metadata": {},
   "outputs": [
    {
     "data": {
      "image/png": "[encoded data removed]",
      "text/plain": [
       "<langgraph.graph.state.CompiledStateGraph object at 0x000002153BD8B610>"
      ]
     },
     "execution_count": 305,
     "metadata": {},
     "output_type": "execute_result"
    }
   ],
   "source": [
    "workflow"
   ]
  },
  {
   "cell_type": "markdown",
   "id": "10801835",
   "metadata": {},
   "source": [
    "##### 2.3 Execute the Workflow"
   ]
  },
  {
   "cell_type": "markdown",
   "id": "2e99db55",
   "metadata": {},
   "source": [
    "Positive Review"
   ]
  },
  {
   "cell_type": "code",
   "execution_count": 307,
   "id": "8deb3d87",
   "metadata": {},
   "outputs": [
    {
     "data": {
      "text/plain": [
       "{'review': 'This software has exceeded my expectations! The user interface is clean and intuitive, making it easy to navigate even for beginners. Performance is smooth, and I haven’t experienced any lags or crashes. I especially appreciate the regular updates and quick bug fixes from the development team. The customer support is responsive and helpful. Overall, it’s a reliable tool that has improved my productivity significantly.',\n",
       " 'sentiment': 'Positive',\n",
       " 'response': \"Okay, here's a positive response to the customer's review, along with a request for them to post it on your website:\\n\\nSubject: Thank you for your amazing feedback!\\n\\nDear [Customer Name],\\n\\nWow! Thank you so much for taking the time to share such a positive and detailed review of our software. We are absolutely thrilled to hear that it has exceeded your expectations and significantly improved your productivity.\\n\\nWe're especially happy that you find the user interface clean and intuitive, and that you're experiencing smooth performance without lags or crashes. Our team works hard to ensure a user-friendly experience, and your feedback validates our efforts.\\n\\nIt's also great to know you appreciate the regular updates and quick bug fixes. We're committed to continuously improving our software and providing excellent support. We're glad you found our customer support responsive and helpful.\\n\\nYour feedback is incredibly valuable to us!\\n\\n**Would you be willing to share your review on our website?** It would be a huge help to other potential users who are looking for a reliable and productive tool. You can simply copy and paste your review here: [Link to your website review submission page].\\n\\nThanks again for your support and your wonderful feedback!\\n\\nSincerely,\\n\\nThe [Your Company Name] Team\"}"
      ]
     },
     "execution_count": 307,
     "metadata": {},
     "output_type": "execute_result"
    }
   ],
   "source": [
    "initalState = {\n",
    "  'review':\"This software has exceeded my expectations! The user interface is clean and intuitive, making it easy to navigate even for beginners. Performance is smooth, and I haven’t experienced any lags or crashes. I especially appreciate the regular updates and quick bug fixes from the development team. The customer support is responsive and helpful. Overall, it’s a reliable tool that has improved my productivity significantly.\"\n",
    "}\n",
    "\n",
    "workflow.invoke(initalState)"
   ]
  },
  {
   "cell_type": "markdown",
   "id": "e8df3f5d",
   "metadata": {},
   "source": [
    "Negative Review"
   ]
  },
  {
   "cell_type": "code",
   "execution_count": 306,
   "id": "a8f6f5b7",
   "metadata": {},
   "outputs": [
    {
     "data": {
      "text/plain": [
       "{'review': 'I’ve been trying to log in for over an hour now, and the app keeps freezing on the authentication screen. I even tried reinstalling it, but no luck. This kind of bug is unacceptable, especially when it affects basic functionality.',\n",
       " 'sentiment': 'Negative',\n",
       " 'diagnosis': {'issue': 'Bug', 'tone': 'angry', 'urgency': 'high'},\n",
       " 'response': \"I understand your frustration, and I sincerely apologize for the trouble you're experiencing with the app. It's completely unacceptable that you've been locked out for over an hour due to this freezing issue, especially after reinstalling.\\n\\nWe're aware of a bug affecting some users during authentication, and our team is working urgently to resolve it.\\n\\nIn the meantime, could you please try the following steps?\\n\\n1.  **Ensure you have a stable internet connection:** Even a brief interruption can sometimes cause authentication issues.\\n2.  **Restart your device:** A simple restart can often clear temporary glitches.\\n3.  **Clear the app's cache:** Go to your device's settings, find the app, and clear its cache. (Don't clear data unless you're sure you have your login information saved elsewhere.)\\n\\nIf these steps don't work, please reply with your device model and operating system version. This will help us in our investigation. We are pushing out a fix as soon as possible, and I will personally update you when it's available. Thank you for your patience, and again, I'm truly sorry for this inconvenience.\"}"
      ]
     },
     "execution_count": 306,
     "metadata": {},
     "output_type": "execute_result"
    }
   ],
   "source": [
    "initalState = {\n",
    "  'review':\"I’ve been trying to log in for over an hour now, and the app keeps freezing on the authentication screen. I even tried reinstalling it, but no luck. This kind of bug is unacceptable, especially when it affects basic functionality.\"\n",
    "}\n",
    "\n",
    "workflow.invoke(initalState)"
   ]
  }
 ],
 "metadata": {
  "kernelspec": {
   "display_name": "myenv",
   "language": "python",
   "name": "python3"
  },
  "language_info": {
   "codemirror_mode": {
    "name": "ipython",
    "version": 3
   },
   "file_extension": ".py",
   "mimetype": "text/x-python",
   "name": "python",
   "nbconvert_exporter": "python",
   "pygments_lexer": "ipython3",
   "version": "3.13.5"
  }
 },
 "nbformat": 4,
 "nbformat_minor": 5
}
