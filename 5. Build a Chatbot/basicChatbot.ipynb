{
 "cells": [
  {
   "cell_type": "markdown",
   "id": "97feb1d1",
   "metadata": {},
   "source": [
    "Import Lib"
   ]
  },
  {
   "cell_type": "code",
   "execution_count": 87,
   "id": "ca9caacf",
   "metadata": {},
   "outputs": [],
   "source": [
    "from langgraph.graph import StateGraph, START, END\n",
    "from langgraph.graph.message import add_messages\n",
    "from langgraph.checkpoint.memory import MemorySaver\n",
    "\n",
    "from langchain_google_genai import ChatGoogleGenerativeAI\n",
    "from langchain_core.messages import HumanMessage, BaseMessage, AIMessage\n",
    "from typing import TypedDict, Annotated\n",
    "from dotenv import load_dotenv"
   ]
  },
  {
   "cell_type": "code",
   "execution_count": 88,
   "id": "c9eab0e7",
   "metadata": {},
   "outputs": [
    {
     "data": {
      "text/plain": [
       "True"
      ]
     },
     "execution_count": 88,
     "metadata": {},
     "output_type": "execute_result"
    }
   ],
   "source": [
    "load_dotenv()"
   ]
  },
  {
   "cell_type": "code",
   "execution_count": 89,
   "id": "bc6cf425",
   "metadata": {},
   "outputs": [],
   "source": [
    "chatLLM = ChatGoogleGenerativeAI(\n",
    "  model='gemini-2.0-flash',\n",
    "  temperature=0.7\n",
    ")"
   ]
  },
  {
   "cell_type": "markdown",
   "id": "25299ae7",
   "metadata": {},
   "source": [
    "### 1. State"
   ]
  },
  {
   "cell_type": "code",
   "execution_count": 90,
   "id": "266705fb",
   "metadata": {},
   "outputs": [],
   "source": [
    "class chatBotMessageState(TypedDict):\n",
    "  messages:Annotated[list[BaseMessage], add_messages]"
   ]
  },
  {
   "cell_type": "markdown",
   "id": "daf3e61d",
   "metadata": {},
   "source": [
    "state Function"
   ]
  },
  {
   "cell_type": "code",
   "execution_count": 91,
   "id": "a4e7d8e6",
   "metadata": {},
   "outputs": [],
   "source": [
    "def chatNode(state:chatBotMessageState)->chatBotMessageState:\n",
    "  messages = state['messages']\n",
    "  \n",
    "  response = chatLLM.invoke(messages)\n",
    "  return {'messages':response}"
   ]
  },
  {
   "cell_type": "markdown",
   "id": "369281c8",
   "metadata": {},
   "source": [
    "### 2. Graph"
   ]
  },
  {
   "cell_type": "code",
   "execution_count": 105,
   "id": "50977e61",
   "metadata": {},
   "outputs": [],
   "source": [
    "checkpointer = MemorySaver()\n",
    "graph = StateGraph(chatBotMessageState)\n",
    "\n",
    "graph.add_node('chatNode', chatNode)\n",
    "graph.add_edge(START, 'chatNode')\n",
    "graph.add_edge('chatNode', END)\n",
    "\n",
    "chatBot = graph.compile(checkpointer=checkpointer)"
   ]
  },
  {
   "cell_type": "markdown",
   "id": "96502857",
   "metadata": {},
   "source": [
    "##### 2.1 Workflow of the ChatBot"
   ]
  },
  {
   "cell_type": "code",
   "execution_count": 93,
   "id": "88545c48",
   "metadata": {},
   "outputs": [
    {
     "data": {
      "image/png": "[encoded data removed]",
      "text/plain": [
       "<langgraph.graph.state.CompiledStateGraph object at 0x0000023D6D21F390>"
      ]
     },
     "execution_count": 93,
     "metadata": {},
     "output_type": "execute_result"
    }
   ],
   "source": [
    "chatBot"
   ]
  },
  {
   "cell_type": "markdown",
   "id": "7d1aab54",
   "metadata": {},
   "source": [
    "##### 2.2 Execute the Workflow"
   ]
  },
  {
   "cell_type": "code",
   "execution_count": 98,
   "id": "0c9231e1",
   "metadata": {},
   "outputs": [
    {
     "data": {
      "text/plain": [
       "{'messages': [HumanMessage(content='What is the Capital of India', additional_kwargs={}, response_metadata={}, id='2ccd476e-3cba-4b6f-8ca0-c6a3466902d8'),\n",
       "  AIMessage(content='The capital of India is **New Delhi**.', additional_kwargs={}, response_metadata={'prompt_feedback': {'block_reason': 0, 'safety_ratings': []}, 'finish_reason': 'STOP', 'safety_ratings': []}, id='run--4806121b-3df9-41e9-ba6f-7f7933079478-0', usage_metadata={'input_tokens': 6, 'output_tokens': 10, 'total_tokens': 16, 'input_token_details': {'cache_read': 0}})]}"
      ]
     },
     "execution_count": 98,
     "metadata": {},
     "output_type": "execute_result"
    }
   ],
   "source": [
    "initalState = {\n",
    "  'messages': [HumanMessage(content='What is the Capital of India')]\n",
    "}\n",
    "\n",
    "chatBot.invoke(initalState)"
   ]
  },
  {
   "cell_type": "code",
   "execution_count": null,
   "id": "550b2cb3",
   "metadata": {},
   "outputs": [
    {
     "data": {
      "text/plain": [
       "'The capital of India is **New Delhi**.'"
      ]
     },
     "execution_count": 79,
     "metadata": {},
     "output_type": "execute_result"
    }
   ],
   "source": [
    "chatBot.invoke(initalState)['messages'][-1].content"
   ]
  },
  {
   "cell_type": "markdown",
   "id": "69348065",
   "metadata": {},
   "source": [
    "## ChatBot "
   ]
  },
  {
   "cell_type": "markdown",
   "id": "84808dc8",
   "metadata": {},
   "source": [
    "##### ChatBot without Memory !!"
   ]
  },
  {
   "cell_type": "code",
   "execution_count": 104,
   "id": "2ed5b01e",
   "metadata": {},
   "outputs": [
    {
     "name": "stdout",
     "output_type": "stream",
     "text": [
      "User: Hi\n",
      "AI: Hi there! How can I help you today?\n",
      "User: How are you ?\n",
      "AI: I am doing well, thank you for asking! As a large language model, I don't experience emotions or feelings in the same way humans do. However, I am functioning optimally and ready to assist you with your requests. How can I help you today?\n",
      "User: Who are you ?\n",
      "AI: I am a large language model, trained by Google.\n",
      "User: Okay\n",
      "AI: Okay! How can I help you today? What are you hoping to accomplish?\n",
      "User: My name is Tushar\n",
      "AI: Okay, Tushar! How can I help you today?\n",
      "User: What is my name ?\n",
      "AI: As a large language model, I have no way of knowing your name. You haven't told me!\n",
      "User: Bye\n",
      "AI: Goodbye! 👋\n"
     ]
    }
   ],
   "source": [
    "while True:\n",
    "  userMessage = input('Type here : ')\n",
    "  print(\"User:\", userMessage)\n",
    "\n",
    "  if userMessage.strip().lower() in ['exit', 'quit', 'bye', 'close']:\n",
    "    print(\"AI: Goodbye! 👋\")\n",
    "    break\n",
    "\n",
    "  response = chatBot.invoke({\n",
    "    'messages':[HumanMessage(content=userMessage)]\n",
    "  })\n",
    "  print('AI:', response['messages'][-1].content)"
   ]
  },
  {
   "cell_type": "markdown",
   "id": "8b17a59c",
   "metadata": {},
   "source": [
    "##### ChatBot with Memory !!"
   ]
  },
  {
   "cell_type": "code",
   "execution_count": 106,
   "id": "07427b90",
   "metadata": {},
   "outputs": [
    {
     "name": "stdout",
     "output_type": "stream",
     "text": [
      "User: Hi\n",
      "AI: Hi there! How can I help you today?\n",
      "User: Who are you ?\n",
      "AI: I am a large language model, trained by Google.\n",
      "User: My name is Tushar\n",
      "AI: It's nice to meet you, Tushar! How can I help you today?\n",
      "User: What is my name ?\n",
      "AI: Your name is Tushar. You told me that a moment ago.\n",
      "User: okay Got it \n",
      "AI: Great! Let me know if you have any other questions or need anything else.\n",
      "User: Bye\n",
      "AI: Goodbye! 👋\n"
     ]
    }
   ],
   "source": [
    "thread_id = '1'\n",
    "while True:\n",
    "  userMessage = input('Type here : ')\n",
    "  print(\"User:\", userMessage)\n",
    "\n",
    "  if userMessage.strip().lower() in ['exit', 'quit', 'bye', 'close']:\n",
    "    print(\"AI: Goodbye! 👋\")\n",
    "    break\n",
    "\n",
    "  config = {'configurable':{'thread_id':thread_id}}\n",
    "  response = chatBot.invoke({\n",
    "    'messages':[HumanMessage(content=userMessage)]}, \n",
    "    config=config)\n",
    "\n",
    "  print('AI:', response['messages'][-1].content)"
   ]
  },
  {
   "cell_type": "markdown",
   "id": "abd24420",
   "metadata": {},
   "source": [
    "Histroy :"
   ]
  },
  {
   "cell_type": "code",
   "execution_count": 107,
   "id": "4c4d7bcb",
   "metadata": {},
   "outputs": [
    {
     "data": {
      "text/plain": [
       "StateSnapshot(values={'messages': [HumanMessage(content='Hi', additional_kwargs={}, response_metadata={}, id='26a2be13-6f9d-40e9-a4e5-25f92daf4e11'), AIMessage(content='Hi there! How can I help you today?', additional_kwargs={}, response_metadata={'prompt_feedback': {'block_reason': 0, 'safety_ratings': []}, 'finish_reason': 'STOP', 'safety_ratings': []}, id='run--709cac2b-6fa0-48f9-abd2-84ded02f2888-0', usage_metadata={'input_tokens': 1, 'output_tokens': 11, 'total_tokens': 12, 'input_token_details': {'cache_read': 0}}), HumanMessage(content='Who are you ?', additional_kwargs={}, response_metadata={}, id='7a6d0836-d758-4921-95ef-1783341d685d'), AIMessage(content='I am a large language model, trained by Google.', additional_kwargs={}, response_metadata={'prompt_feedback': {'block_reason': 0, 'safety_ratings': []}, 'finish_reason': 'STOP', 'safety_ratings': []}, id='run--d80c8447-0937-4d94-90c1-4e0e1efaedf5-0', usage_metadata={'input_tokens': 15, 'output_tokens': 12, 'total_tokens': 27, 'input_token_details': {'cache_read': 0}}), HumanMessage(content='My name is Tushar', additional_kwargs={}, response_metadata={}, id='4c49447b-be48-4dca-8d27-2f7a372322ce'), AIMessage(content=\"It's nice to meet you, Tushar! How can I help you today?\", additional_kwargs={}, response_metadata={'prompt_feedback': {'block_reason': 0, 'safety_ratings': []}, 'finish_reason': 'STOP', 'safety_ratings': []}, id='run--a51c3e3e-2836-4fa6-ba7f-60ebfefc2b54-0', usage_metadata={'input_tokens': 32, 'output_tokens': 20, 'total_tokens': 52, 'input_token_details': {'cache_read': 0}}), HumanMessage(content='What is my name ?', additional_kwargs={}, response_metadata={}, id='db755a88-4f50-4bb6-8f02-ba21d94df26e'), AIMessage(content='Your name is Tushar. You told me that a moment ago.', additional_kwargs={}, response_metadata={'prompt_feedback': {'block_reason': 0, 'safety_ratings': []}, 'finish_reason': 'STOP', 'safety_ratings': []}, id='run--d43cbfb6-a58e-4d34-b327-052d39a23a49-0', usage_metadata={'input_tokens': 56, 'output_tokens': 16, 'total_tokens': 72, 'input_token_details': {'cache_read': 0}}), HumanMessage(content='okay Got it ', additional_kwargs={}, response_metadata={}, id='d335d1be-f144-43c5-b290-cf7b835e334b'), AIMessage(content='Great! Let me know if you have any other questions or need anything else.', additional_kwargs={}, response_metadata={'prompt_feedback': {'block_reason': 0, 'safety_ratings': []}, 'finish_reason': 'STOP', 'safety_ratings': []}, id='run--46bda3b9-f0d3-452e-8fe2-f0d43fae81b6-0', usage_metadata={'input_tokens': 75, 'output_tokens': 17, 'total_tokens': 92, 'input_token_details': {'cache_read': 0}})]}, next=(), config={'configurable': {'thread_id': '1', 'checkpoint_ns': '', 'checkpoint_id': '1f089996-f99b-6285-800d-cd1c0145ff5b'}}, metadata={'source': 'loop', 'step': 13, 'parents': {}}, created_at='2025-09-04T14:14:14.383032+00:00', parent_config={'configurable': {'thread_id': '1', 'checkpoint_ns': '', 'checkpoint_id': '1f089996-f1b4-609d-800c-3ffa44c76826'}}, tasks=(), interrupts=())"
      ]
     },
     "execution_count": 107,
     "metadata": {},
     "output_type": "execute_result"
    }
   ],
   "source": [
    "chatBot.get_state(config=config)"
   ]
  }
 ],
 "metadata": {
  "kernelspec": {
   "display_name": "myenv",
   "language": "python",
   "name": "python3"
  },
  "language_info": {
   "codemirror_mode": {
    "name": "ipython",
    "version": 3
   },
   "file_extension": ".py",
   "mimetype": "text/x-python",
   "name": "python",
   "nbconvert_exporter": "python",
   "pygments_lexer": "ipython3",
   "version": "3.13.5"
  }
 },
 "nbformat": 4,
 "nbformat_minor": 5
}
