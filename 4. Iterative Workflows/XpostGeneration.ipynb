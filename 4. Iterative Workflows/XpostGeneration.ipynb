{
 "cells": [
  {
   "cell_type": "markdown",
   "id": "183fb509",
   "metadata": {},
   "source": [
    "Import Lib"
   ]
  },
  {
   "cell_type": "code",
   "execution_count": 271,
   "id": "ff23f83d",
   "metadata": {},
   "outputs": [],
   "source": [
    "from langgraph.graph import StateGraph, START, END\n",
    "from langchain_google_genai import ChatGoogleGenerativeAI\n",
    "from langchain_core.messages import SystemMessage, HumanMessage\n",
    "from typing import TypedDict, Literal, Annotated\n",
    "from pydantic import BaseModel, Field\n",
    "from dotenv import load_dotenv\n",
    "import operator"
   ]
  },
  {
   "cell_type": "code",
   "execution_count": 272,
   "id": "7dafc88c",
   "metadata": {},
   "outputs": [
    {
     "data": {
      "text/plain": [
       "True"
      ]
     },
     "execution_count": 272,
     "metadata": {},
     "output_type": "execute_result"
    }
   ],
   "source": [
    "load_dotenv()"
   ]
  },
  {
   "cell_type": "markdown",
   "id": "0c40ff40",
   "metadata": {},
   "source": [
    "LLM Models for all Indiviual task's"
   ]
  },
  {
   "cell_type": "code",
   "execution_count": 273,
   "id": "d342edba",
   "metadata": {},
   "outputs": [],
   "source": [
    "generatorLLM = ChatGoogleGenerativeAI(\n",
    "    model=\"gemini-1.5-flash\",\n",
    "    temperature=0.7,\n",
    ")\n",
    "\n",
    "evaluatorLLM = ChatGoogleGenerativeAI(\n",
    "    model=\"gemini-1.5-flash\",\n",
    "    temperature=0.3\n",
    ")\n",
    "\n",
    "optimizerLLM = ChatGoogleGenerativeAI(\n",
    "    model=\"gemini-1.5-pro\",\n",
    "    temperature=0.5\n",
    ")\n"
   ]
  },
  {
   "cell_type": "markdown",
   "id": "6e4a2de1",
   "metadata": {},
   "source": [
    "##### Structure Schema for Evaluation"
   ]
  },
  {
   "cell_type": "code",
   "execution_count": 274,
   "id": "20a7cb18",
   "metadata": {},
   "outputs": [],
   "source": [
    "class tweetEvaluationSchema(BaseModel):\n",
    "  evaluation:Literal[\"approved\", \"need_improvement\"] = Field(..., description=\"Final evaluation result\")\n",
    "  feedback:str = Field(..., description=\"Feedback for the tweet\")"
   ]
  },
  {
   "cell_type": "code",
   "execution_count": 275,
   "id": "21a02362",
   "metadata": {},
   "outputs": [],
   "source": [
    "structureEvaluatorLLM = evaluatorLLM.with_structured_output(tweetEvaluationSchema)"
   ]
  },
  {
   "cell_type": "markdown",
   "id": "df0a0c8e",
   "metadata": {},
   "source": [
    "## 1. State"
   ]
  },
  {
   "cell_type": "code",
   "execution_count": 276,
   "id": "564d92ef",
   "metadata": {},
   "outputs": [],
   "source": [
    "class XTweetState(TypedDict):\n",
    "  topic:str\n",
    "  tweet:str\n",
    "  evaluatePost:Literal[\"approved\", \"need_improvement\"]\n",
    "  feedback:str\n",
    "  iteration:int\n",
    "  maxIteration:int\n",
    "\n",
    "  tweetHistory:Annotated[list[str], operator.add]\n",
    "  feedbackHistory:Annotated[list[str], operator.add]"
   ]
  },
  {
   "cell_type": "markdown",
   "id": "cb2adee3",
   "metadata": {},
   "source": [
    "## 2. Defining the Function"
   ]
  },
  {
   "cell_type": "markdown",
   "id": "ac0d92cb",
   "metadata": {},
   "source": [
    "##### 2.1 Generate the Tweet"
   ]
  },
  {
   "cell_type": "code",
   "execution_count": 277,
   "id": "a54fca34",
   "metadata": {},
   "outputs": [],
   "source": [
    "def XtweetGenerator(state:XTweetState)->XTweetState:\n",
    "\n",
    "  # prompt\n",
    "  messages = [\n",
    "    SystemMessage(content=\"You are a funny and clever Twitter/X influencer.\"),\n",
    "    HumanMessage(content=f\"\"\"\n",
    "  Write a short, original, and hilarious tweet on the topic: \"{state['topic']}\".\n",
    "  Rules:\n",
    "  - Do NOT use question-answer format.\n",
    "  - Max 280 characters.\n",
    "  - Use observational humor, irony, sarcasm, or cultural references.\n",
    "  - Think in meme logic, punchlines, or relatable takes.\n",
    "  - Use simple, day to day english\n",
    "  - This is version {state['iteration'] + 1}.\n",
    "  \"\"\")\n",
    "  ]\n",
    "\n",
    "  # send to generatorLLM\n",
    "  response = generatorLLM.invoke(messages).content\n",
    "  return {'tweet':response, 'tweetHistory':[response]}"
   ]
  },
  {
   "cell_type": "markdown",
   "id": "f90e94ea",
   "metadata": {},
   "source": [
    "##### 2.2 Evaluate the Tweet"
   ]
  },
  {
   "cell_type": "code",
   "execution_count": 278,
   "id": "0949de42",
   "metadata": {},
   "outputs": [],
   "source": [
    "def XTweetEvaluator(state:XTweetState)->XTweetState:\n",
    "\n",
    "  # prompt for evalution\n",
    "   messages = [\n",
    "    SystemMessage(content=\"You are a ruthless, no-laugh-given Twitter critic. You evaluate tweets based on humor, originality, virality, and tweet format.\"),\n",
    "    HumanMessage(content=f\"\"\"\n",
    "Evaluate the following tweet:\n",
    "\n",
    "Tweet: \"{state['tweet']}\"\n",
    "\n",
    "Use the criteria below to evaluate the tweet:\n",
    "\n",
    "1. Originality – Is this fresh, or have you seen it a hundred times before?  \n",
    "2. Humor – Did it genuinely make you smile, laugh, or chuckle?  \n",
    "3. Punchiness – Is it short, sharp, and scroll-stopping?  \n",
    "4. Virality Potential – Would people retweet or share it?  \n",
    "5. Format – Is it a well-formed tweet (not a setup-punchline joke, not a Q&A joke, and under 280 characters)?\n",
    "\n",
    "Auto-reject if:\n",
    "- It's written in question-answer format (e.g., \"Why did...\" or \"What happens when...\")\n",
    "- It exceeds 280 characters\n",
    "- It reads like a traditional setup-punchline joke\n",
    "- Dont end with generic, throwaway, or deflating lines that weaken the humor (e.g., “Masterpieces of the auntie-uncle universe” or vague summaries)\n",
    "\n",
    "### Respond ONLY in structured format:\n",
    "- evaluation: \"approved\" or \"needs_improvement\"  \n",
    "- feedback: One paragraph explaining the strengths and weaknesses \n",
    "\"\"\")\n",
    "]\n",
    "   \n",
    "   response = structureEvaluatorLLM.invoke(messages)\n",
    "   return {'evaluatePost':response.evaluation, 'feedback':response.feedback, 'feedbackHistory':[response.feedback]}"
   ]
  },
  {
   "cell_type": "markdown",
   "id": "e47ebe03",
   "metadata": {},
   "source": [
    "##### 2.3 Optimize the Tweet"
   ]
  },
  {
   "cell_type": "code",
   "execution_count": 279,
   "id": "bf4a85fa",
   "metadata": {},
   "outputs": [],
   "source": [
    "def XTweetOptimizer(state:XTweetState)->XTweetState:\n",
    "  messages = [\n",
    "        SystemMessage(content=\"You punch up tweets for virality and humor based on given feedback.\"),\n",
    "        HumanMessage(content=f\"\"\"\n",
    "    Improve the tweet based on this feedback:\n",
    "    \"{state['feedback']}\"\n",
    "\n",
    "    Topic: \"{state['topic']}\"\n",
    "    Original Tweet:\n",
    "    {state['tweet']}\n",
    "\n",
    "    Re-write it as a short, viral-worthy tweet. Avoid Q&A style and stay under 280 characters.\n",
    "    \"\"\")\n",
    "  ]\n",
    "  response = optimizerLLM.invoke(messages).content\n",
    "  iteration = state['iteration'] + 1\n",
    "\n",
    "  return {'tweet':response, 'iteration':iteration, 'tweetHistory':[response]}"
   ]
  },
  {
   "cell_type": "markdown",
   "id": "eecc9de6",
   "metadata": {},
   "source": [
    "conditional check for Graph"
   ]
  },
  {
   "cell_type": "code",
   "execution_count": 280,
   "id": "2a4ae2f1",
   "metadata": {},
   "outputs": [],
   "source": [
    "def checkApprove(state:XTweetState):\n",
    "  if state['evaluatePost'] == \"approved\" or state['iteration'] >= state['maxIteration']:\n",
    "    return \"approved\"\n",
    "  else:\n",
    "    return \"need_improvement\""
   ]
  },
  {
   "cell_type": "markdown",
   "id": "d60ceafa",
   "metadata": {},
   "source": [
    "## 3. Graph"
   ]
  },
  {
   "cell_type": "code",
   "execution_count": 281,
   "id": "02b542e1",
   "metadata": {},
   "outputs": [],
   "source": [
    "graph = StateGraph(XTweetState)\n",
    "\n",
    "graph.add_node('generateTweet', XtweetGenerator)\n",
    "graph.add_node('evaluateTweet', XTweetEvaluator)\n",
    "graph.add_node('optimizeTweet', XTweetOptimizer)\n",
    "\n",
    "graph.add_edge(START, 'generateTweet')\n",
    "graph.add_edge('generateTweet', 'evaluateTweet')\n",
    "\n",
    "graph.add_conditional_edges('evaluateTweet', checkApprove, {'approved':END, 'need_improvement':\"optimizeTweet\"})\n",
    "graph.add_edge('optimizeTweet', 'evaluateTweet')\n",
    "\n",
    "workflow = graph.compile()"
   ]
  },
  {
   "cell_type": "markdown",
   "id": "d6388c64",
   "metadata": {},
   "source": [
    "##### 3.1 Show the Workflow"
   ]
  },
  {
   "cell_type": "code",
   "execution_count": 282,
   "id": "6d9f272d",
   "metadata": {},
   "outputs": [
    {
     "data": {
      "image/png": "[encoded data removed]",
      "text/plain": [
       "<langgraph.graph.state.CompiledStateGraph object at 0x000001CCC64B09E0>"
      ]
     },
     "execution_count": 282,
     "metadata": {},
     "output_type": "execute_result"
    }
   ],
   "source": [
    "workflow"
   ]
  },
  {
   "cell_type": "markdown",
   "id": "9a1883cb",
   "metadata": {},
   "source": [
    "##### 3.2 Execute the Workflow"
   ]
  },
  {
   "cell_type": "code",
   "execution_count": 288,
   "id": "51738a13",
   "metadata": {},
   "outputs": [
    {
     "data": {
      "text/plain": [
       "{'topic': 'Corruption',\n",
       " 'tweet': \"My therapist told me to embrace my mistakes.  So I'm embracing this giant pile of suspiciously acquired cash.  #blessed #corruption #smallvictories\",\n",
       " 'evaluatePost': 'approved',\n",
       " 'feedback': 'The tweet is original and humorous, with a good punchline.  The use of hashtags is also effective. The length is appropriate.  It has good virality potential due to its dark humor and relatable nature (though some may find it offensive).',\n",
       " 'iteration': 1,\n",
       " 'maxIteration': 5,\n",
       " 'tweetHistory': [\"My therapist told me to embrace my mistakes.  So I'm embracing this giant pile of suspiciously acquired cash.  #blessed #corruption #smallvictories\"],\n",
       " 'feedbackHistory': ['The tweet is original and humorous, with a good punchline.  The use of hashtags is also effective. The length is appropriate.  It has good virality potential due to its dark humor and relatable nature (though some may find it offensive).']}"
      ]
     },
     "execution_count": 288,
     "metadata": {},
     "output_type": "execute_result"
    }
   ],
   "source": [
    "initalState = {\n",
    "  'topic':\"Corruption\",\n",
    "  'iteration': 1,\n",
    "  'maxIteration':5\n",
    "}\n",
    "\n",
    "workflow.invoke(initalState)"
   ]
  }
 ],
 "metadata": {
  "kernelspec": {
   "display_name": "myenv",
   "language": "python",
   "name": "python3"
  },
  "language_info": {
   "codemirror_mode": {
    "name": "ipython",
    "version": 3
   },
   "file_extension": ".py",
   "mimetype": "text/x-python",
   "name": "python",
   "nbconvert_exporter": "python",
   "pygments_lexer": "ipython3",
   "version": "3.13.5"
  }
 },
 "nbformat": 4,
 "nbformat_minor": 5
}
