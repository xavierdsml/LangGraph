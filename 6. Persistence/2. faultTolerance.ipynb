{
 "cells": [
  {
   "cell_type": "markdown",
   "id": "78152226",
   "metadata": {},
   "source": [
    "Import Lib"
   ]
  },
  {
   "cell_type": "code",
   "execution_count": 1,
   "id": "03c13f94",
   "metadata": {},
   "outputs": [],
   "source": [
    "from langgraph.graph import StateGraph, START, END\n",
    "from langgraph.checkpoint.memory import InMemorySaver\n",
    "from typing import TypedDict\n",
    "import time"
   ]
  },
  {
   "cell_type": "markdown",
   "id": "b2c8fade",
   "metadata": {},
   "source": [
    "#### 1. State"
   ]
  },
  {
   "cell_type": "code",
   "execution_count": 2,
   "id": "770b170f",
   "metadata": {},
   "outputs": [],
   "source": [
    "class stepState(TypedDict):\n",
    "  input:str\n",
    "  step1:str\n",
    "  step2:str\n",
    "  step3:str\n",
    "  step4:str"
   ]
  },
  {
   "cell_type": "markdown",
   "id": "987ef154",
   "metadata": {},
   "source": [
    "#### 2. Function Defining"
   ]
  },
  {
   "cell_type": "code",
   "execution_count": 3,
   "id": "fd297a92",
   "metadata": {},
   "outputs": [],
   "source": [
    "def step1(state:stepState)->stepState:\n",
    "  print(\"Step-1 Executed\")\n",
    "  return {'step1':'Done', 'input':state['input']}\n",
    "  \n",
    "\n",
    "def step2(state:stepState)->stepState:\n",
    "  print(\"Step-2 Executed\")\n",
    "  return {'step2':'Done'}\n",
    "\n",
    "def step3(state:stepState)->stepState:\n",
    "  print(\"Step-3 hanging..now interrupt (STOP BUTTON)\")\n",
    "  time.sleep(5) # long running hang\n",
    "  return {'step3':'Done'}\n",
    "\n",
    "def step4(state:stepState)->stepState:\n",
    "  print(\"Step-4 Executed\")\n",
    "  return {'step4':True}\n"
   ]
  },
  {
   "cell_type": "markdown",
   "id": "abce05ba",
   "metadata": {},
   "source": [
    "#### 3. Graph"
   ]
  },
  {
   "cell_type": "code",
   "execution_count": 4,
   "id": "c672b385",
   "metadata": {},
   "outputs": [],
   "source": [
    "graph = StateGraph(stepState)\n",
    "\n",
    "graph.add_node('Step 1', step1)\n",
    "graph.add_node('Step 2', step2)\n",
    "graph.add_node('Step 3', step3)\n",
    "graph.add_node('Step 4', step4)\n",
    "\n",
    "graph.add_edge(START, 'Step 1')\n",
    "graph.add_edge('Step 1', 'Step 2')\n",
    "graph.add_edge('Step 2', 'Step 3')\n",
    "graph.add_edge('Step 3', 'Step 4')\n",
    "graph.add_edge('Step 4', END)\n",
    "\n",
    "checkpointer = InMemorySaver()\n",
    "workflow = graph.compile(checkpointer=checkpointer)"
   ]
  },
  {
   "cell_type": "markdown",
   "id": "b2da81eb",
   "metadata": {},
   "source": [
    "##### 3.1 Executing the Graph"
   ]
  },
  {
   "cell_type": "markdown",
   "id": "f22ef5d6",
   "metadata": {},
   "source": [
    "Interrupt the WorkFLow in middle to show the Fault-Tolerance !"
   ]
  },
  {
   "cell_type": "code",
   "execution_count": 5,
   "id": "e62ae673",
   "metadata": {},
   "outputs": [
    {
     "name": "stdout",
     "output_type": "stream",
     "text": [
      "Running graph: Please manually interrupt during the step 3\n",
      "Step-1 Executed\n",
      "Step-2 Executed\n",
      "Step-3 hanging..now interrupt (STOP BUTTON)\n",
      "Kernal manually interrupt (crash simulated)\n"
     ]
    }
   ],
   "source": [
    "try:\n",
    "  print(\"Running graph: Please manually interrupt during the step 3\")\n",
    "  workflow.invoke({'input':'START'}, config={'configurable':{'thread_id':'thread-1'}})\n",
    "except KeyboardInterrupt:\n",
    "  print(\"Kernal manually interrupt (crash simulated)\")"
   ]
  },
  {
   "cell_type": "code",
   "execution_count": 6,
   "id": "9209d48a",
   "metadata": {},
   "outputs": [
    {
     "data": {
      "text/plain": [
       "StateSnapshot(values={'input': 'START', 'step1': 'Done', 'step2': 'Done'}, next=('Step 3',), config={'configurable': {'thread_id': 'thread-1', 'checkpoint_ns': '', 'checkpoint_id': '1f08a153-25af-62dc-8002-f33b746a0f31'}}, metadata={'source': 'loop', 'step': 2, 'parents': {}}, created_at='2025-09-05T05:00:09.225242+00:00', parent_config={'configurable': {'thread_id': 'thread-1', 'checkpoint_ns': '', 'checkpoint_id': '1f08a153-25a6-6e0c-8001-3421f68cd604'}}, tasks=(PregelTask(id='c739ea30-63e1-4565-8d57-c5bcadcac7a7', name='Step 3', path=('__pregel_pull', 'Step 3'), error=None, interrupts=(), state=None, result=None),), interrupts=())"
      ]
     },
     "execution_count": 6,
     "metadata": {},
     "output_type": "execute_result"
    }
   ],
   "source": [
    "workflow.get_state({'configurable':{'thread_id':'thread-1'}})"
   ]
  },
  {
   "cell_type": "code",
   "execution_count": 7,
   "id": "c5118344",
   "metadata": {},
   "outputs": [
    {
     "data": {
      "text/plain": [
       "[StateSnapshot(values={'input': 'START', 'step1': 'Done', 'step2': 'Done'}, next=('Step 3',), config={'configurable': {'thread_id': 'thread-1', 'checkpoint_ns': '', 'checkpoint_id': '1f08a153-25af-62dc-8002-f33b746a0f31'}}, metadata={'source': 'loop', 'step': 2, 'parents': {}}, created_at='2025-09-05T05:00:09.225242+00:00', parent_config={'configurable': {'thread_id': 'thread-1', 'checkpoint_ns': '', 'checkpoint_id': '1f08a153-25a6-6e0c-8001-3421f68cd604'}}, tasks=(PregelTask(id='c739ea30-63e1-4565-8d57-c5bcadcac7a7', name='Step 3', path=('__pregel_pull', 'Step 3'), error=None, interrupts=(), state=None, result=None),), interrupts=()),\n",
       " StateSnapshot(values={'input': 'START', 'step1': 'Done'}, next=('Step 2',), config={'configurable': {'thread_id': 'thread-1', 'checkpoint_ns': '', 'checkpoint_id': '1f08a153-25a6-6e0c-8001-3421f68cd604'}}, metadata={'source': 'loop', 'step': 1, 'parents': {}}, created_at='2025-09-05T05:00:09.221816+00:00', parent_config={'configurable': {'thread_id': 'thread-1', 'checkpoint_ns': '', 'checkpoint_id': '1f08a153-259c-65f5-8000-6c4d7ed7fd48'}}, tasks=(PregelTask(id='892cd5f0-42dc-1314-901c-1c9c60b93f64', name='Step 2', path=('__pregel_pull', 'Step 2'), error=None, interrupts=(), state=None, result={'step2': 'Done'}),), interrupts=()),\n",
       " StateSnapshot(values={'input': 'START'}, next=('Step 1',), config={'configurable': {'thread_id': 'thread-1', 'checkpoint_ns': '', 'checkpoint_id': '1f08a153-259c-65f5-8000-6c4d7ed7fd48'}}, metadata={'source': 'loop', 'step': 0, 'parents': {}}, created_at='2025-09-05T05:00:09.217482+00:00', parent_config={'configurable': {'thread_id': 'thread-1', 'checkpoint_ns': '', 'checkpoint_id': '1f08a153-2594-6553-bfff-f40dd1201351'}}, tasks=(PregelTask(id='e1faccd8-59df-1fd9-5d65-ba9b5b7b264b', name='Step 1', path=('__pregel_pull', 'Step 1'), error=None, interrupts=(), state=None, result={'step1': 'Done', 'input': 'START'}),), interrupts=()),\n",
       " StateSnapshot(values={}, next=('__start__',), config={'configurable': {'thread_id': 'thread-1', 'checkpoint_ns': '', 'checkpoint_id': '1f08a153-2594-6553-bfff-f40dd1201351'}}, metadata={'source': 'input', 'step': -1, 'parents': {}}, created_at='2025-09-05T05:00:09.214226+00:00', parent_config=None, tasks=(PregelTask(id='3228923a-0896-92ee-f5be-56a4307aca41', name='__start__', path=('__pregel_pull', '__start__'), error=None, interrupts=(), state=None, result={'input': 'START'}),), interrupts=())]"
      ]
     },
     "execution_count": 7,
     "metadata": {},
     "output_type": "execute_result"
    }
   ],
   "source": [
    "list(workflow.get_state_history({'configurable':{'thread_id':'thread-1'}}))"
   ]
  },
  {
   "cell_type": "markdown",
   "id": "f9693eaf",
   "metadata": {},
   "source": [
    "### Re-run the state to show the Fault-Tolerant"
   ]
  },
  {
   "cell_type": "code",
   "execution_count": 8,
   "id": "3ffec920",
   "metadata": {},
   "outputs": [
    {
     "name": "stdout",
     "output_type": "stream",
     "text": [
      "Step-3 hanging..now interrupt (STOP BUTTON)\n",
      "Step-4 Executed\n"
     ]
    }
   ],
   "source": [
    "final_state = workflow.invoke(None, config={'configurable':{'thread_id':'thread-1'}})"
   ]
  },
  {
   "cell_type": "code",
   "execution_count": 10,
   "id": "14e40960",
   "metadata": {},
   "outputs": [
    {
     "data": {
      "text/plain": [
       "StateSnapshot(values={'input': 'START', 'step1': 'Done', 'step2': 'Done', 'step3': 'Done', 'step4': True}, next=(), config={'configurable': {'thread_id': 'thread-1', 'checkpoint_ns': '', 'checkpoint_id': '1f08a153-dbcf-6810-8004-256ef228d93b'}}, metadata={'source': 'loop', 'step': 4, 'parents': {}}, created_at='2025-09-05T05:00:28.322576+00:00', parent_config={'configurable': {'thread_id': 'thread-1', 'checkpoint_ns': '', 'checkpoint_id': '1f08a153-dbca-6dde-8003-0d0413d47751'}}, tasks=(), interrupts=())"
      ]
     },
     "execution_count": 10,
     "metadata": {},
     "output_type": "execute_result"
    }
   ],
   "source": [
    "workflow.get_state({'configurable':{'thread_id':'thread-1'}})"
   ]
  },
  {
   "cell_type": "code",
   "execution_count": 11,
   "id": "44a0aae4",
   "metadata": {},
   "outputs": [
    {
     "data": {
      "text/plain": [
       "[StateSnapshot(values={'input': 'START', 'step1': 'Done', 'step2': 'Done', 'step3': 'Done', 'step4': True}, next=(), config={'configurable': {'thread_id': 'thread-1', 'checkpoint_ns': '', 'checkpoint_id': '1f08a153-dbcf-6810-8004-256ef228d93b'}}, metadata={'source': 'loop', 'step': 4, 'parents': {}}, created_at='2025-09-05T05:00:28.322576+00:00', parent_config={'configurable': {'thread_id': 'thread-1', 'checkpoint_ns': '', 'checkpoint_id': '1f08a153-dbca-6dde-8003-0d0413d47751'}}, tasks=(), interrupts=()),\n",
       " StateSnapshot(values={'input': 'START', 'step1': 'Done', 'step2': 'Done', 'step3': 'Done'}, next=('Step 4',), config={'configurable': {'thread_id': 'thread-1', 'checkpoint_ns': '', 'checkpoint_id': '1f08a153-dbca-6dde-8003-0d0413d47751'}}, metadata={'source': 'loop', 'step': 3, 'parents': {}}, created_at='2025-09-05T05:00:28.320668+00:00', parent_config={'configurable': {'thread_id': 'thread-1', 'checkpoint_ns': '', 'checkpoint_id': '1f08a153-25af-62dc-8002-f33b746a0f31'}}, tasks=(PregelTask(id='49c4e4ac-d052-5617-2372-f3a73524e6ac', name='Step 4', path=('__pregel_pull', 'Step 4'), error=None, interrupts=(), state=None, result={'step4': True}),), interrupts=()),\n",
       " StateSnapshot(values={'input': 'START', 'step1': 'Done', 'step2': 'Done'}, next=('Step 3',), config={'configurable': {'thread_id': 'thread-1', 'checkpoint_ns': '', 'checkpoint_id': '1f08a153-25af-62dc-8002-f33b746a0f31'}}, metadata={'source': 'loop', 'step': 2, 'parents': {}}, created_at='2025-09-05T05:00:09.225242+00:00', parent_config={'configurable': {'thread_id': 'thread-1', 'checkpoint_ns': '', 'checkpoint_id': '1f08a153-25a6-6e0c-8001-3421f68cd604'}}, tasks=(PregelTask(id='c739ea30-63e1-4565-8d57-c5bcadcac7a7', name='Step 3', path=('__pregel_pull', 'Step 3'), error=None, interrupts=(), state=None, result={'step3': 'Done'}),), interrupts=()),\n",
       " StateSnapshot(values={'input': 'START', 'step1': 'Done'}, next=('Step 2',), config={'configurable': {'thread_id': 'thread-1', 'checkpoint_ns': '', 'checkpoint_id': '1f08a153-25a6-6e0c-8001-3421f68cd604'}}, metadata={'source': 'loop', 'step': 1, 'parents': {}}, created_at='2025-09-05T05:00:09.221816+00:00', parent_config={'configurable': {'thread_id': 'thread-1', 'checkpoint_ns': '', 'checkpoint_id': '1f08a153-259c-65f5-8000-6c4d7ed7fd48'}}, tasks=(PregelTask(id='892cd5f0-42dc-1314-901c-1c9c60b93f64', name='Step 2', path=('__pregel_pull', 'Step 2'), error=None, interrupts=(), state=None, result={'step2': 'Done'}),), interrupts=()),\n",
       " StateSnapshot(values={'input': 'START'}, next=('Step 1',), config={'configurable': {'thread_id': 'thread-1', 'checkpoint_ns': '', 'checkpoint_id': '1f08a153-259c-65f5-8000-6c4d7ed7fd48'}}, metadata={'source': 'loop', 'step': 0, 'parents': {}}, created_at='2025-09-05T05:00:09.217482+00:00', parent_config={'configurable': {'thread_id': 'thread-1', 'checkpoint_ns': '', 'checkpoint_id': '1f08a153-2594-6553-bfff-f40dd1201351'}}, tasks=(PregelTask(id='e1faccd8-59df-1fd9-5d65-ba9b5b7b264b', name='Step 1', path=('__pregel_pull', 'Step 1'), error=None, interrupts=(), state=None, result={'step1': 'Done', 'input': 'START'}),), interrupts=()),\n",
       " StateSnapshot(values={}, next=('__start__',), config={'configurable': {'thread_id': 'thread-1', 'checkpoint_ns': '', 'checkpoint_id': '1f08a153-2594-6553-bfff-f40dd1201351'}}, metadata={'source': 'input', 'step': -1, 'parents': {}}, created_at='2025-09-05T05:00:09.214226+00:00', parent_config=None, tasks=(PregelTask(id='3228923a-0896-92ee-f5be-56a4307aca41', name='__start__', path=('__pregel_pull', '__start__'), error=None, interrupts=(), state=None, result={'input': 'START'}),), interrupts=())]"
      ]
     },
     "execution_count": 11,
     "metadata": {},
     "output_type": "execute_result"
    }
   ],
   "source": [
    "list(workflow.get_state_history({'configurable':{'thread_id':'thread-1'}}))"
   ]
  }
 ],
 "metadata": {
  "kernelspec": {
   "display_name": "myenv",
   "language": "python",
   "name": "python3"
  },
  "language_info": {
   "codemirror_mode": {
    "name": "ipython",
    "version": 3
   },
   "file_extension": ".py",
   "mimetype": "text/x-python",
   "name": "python",
   "nbconvert_exporter": "python",
   "pygments_lexer": "ipython3",
   "version": "3.13.5"
  }
 },
 "nbformat": 4,
 "nbformat_minor": 5
}
