{
 "cells": [
  {
   "cell_type": "markdown",
   "id": "f478e8ff",
   "metadata": {},
   "source": [
    "Import Lib"
   ]
  },
  {
   "cell_type": "code",
   "execution_count": 1,
   "id": "24f56277",
   "metadata": {},
   "outputs": [
    {
     "name": "stderr",
     "output_type": "stream",
     "text": [
      "c:\\Users\\Lenovo\\Desktop\\text\\LangGraph\\myenv\\Lib\\site-packages\\tqdm\\auto.py:21: TqdmWarning: IProgress not found. Please update jupyter and ipywidgets. See https://ipywidgets.readthedocs.io/en/stable/user_install.html\n",
      "  from .autonotebook import tqdm as notebook_tqdm\n"
     ]
    }
   ],
   "source": [
    "from langgraph.graph import StateGraph, START, END\n",
    "from langgraph.checkpoint.memory import InMemorySaver\n",
    "\n",
    "from langchain_google_genai import ChatGoogleGenerativeAI\n",
    "from typing import TypedDict\n",
    "from dotenv import load_dotenv"
   ]
  },
  {
   "cell_type": "code",
   "execution_count": 2,
   "id": "c43e6810",
   "metadata": {},
   "outputs": [
    {
     "data": {
      "text/plain": [
       "True"
      ]
     },
     "execution_count": 2,
     "metadata": {},
     "output_type": "execute_result"
    }
   ],
   "source": [
    "load_dotenv()"
   ]
  },
  {
   "cell_type": "code",
   "execution_count": 3,
   "id": "d21ea2ea",
   "metadata": {},
   "outputs": [],
   "source": [
    "jokeLLM = ChatGoogleGenerativeAI(\n",
    "  model='gemini-2.0-flash',\n",
    "  temperature=0.7\n",
    ")"
   ]
  },
  {
   "cell_type": "markdown",
   "id": "2727eeb0",
   "metadata": {},
   "source": [
    "### 1. State"
   ]
  },
  {
   "cell_type": "code",
   "execution_count": 4,
   "id": "9c483a3e",
   "metadata": {},
   "outputs": [],
   "source": [
    "class jokeState(TypedDict):\n",
    "  topic:str\n",
    "  joke:str\n",
    "  explaination:str"
   ]
  },
  {
   "cell_type": "markdown",
   "id": "92bfc1c1",
   "metadata": {},
   "source": [
    "### 2. Function"
   ]
  },
  {
   "cell_type": "code",
   "execution_count": 5,
   "id": "cacf2f37",
   "metadata": {},
   "outputs": [],
   "source": [
    "def jokeGen(state:jokeState)->jokeState:\n",
    "  prompt = f\"\"\"Write a funny, creative, and clean joke based on the topic: {state['topic']}. \n",
    "Make sure the joke is easy to understand, engaging, and suitable for a general audience.\"\"\"\n",
    "\n",
    "  response = jokeLLM.invoke(prompt).content\n",
    "  return {'joke':response}"
   ]
  },
  {
   "cell_type": "code",
   "execution_count": 6,
   "id": "61861479",
   "metadata": {},
   "outputs": [],
   "source": [
    "def jokeEx(state:jokeState)->jokeState:\n",
    "  prompt = prompt = f\"\"\"\n",
    "I have written a joke on the topic: \"{state['topic']}\".\n",
    "Here is the joke: \"{state['joke']}\".\n",
    "\n",
    "Please explain the joke in simple and clear terms so that anyone,\n",
    "even someone unfamiliar with the topic, can understand why it is funny. \n",
    "Also highlight the wordplay, humor style (pun, irony, sarcasm, etc.), \n",
    "and the cultural or contextual background if relevant.\n",
    "\"\"\"\n",
    "\n",
    "  response = jokeLLM.invoke(prompt).content\n",
    "  return {'explaination':response}"
   ]
  },
  {
   "cell_type": "markdown",
   "id": "0834c71b",
   "metadata": {},
   "source": [
    "### 3. Graph"
   ]
  },
  {
   "cell_type": "code",
   "execution_count": 7,
   "id": "6c5423ba",
   "metadata": {},
   "outputs": [],
   "source": [
    "graph = StateGraph(jokeState)\n",
    "\n",
    "graph.add_node('jokeGenerator', jokeGen)\n",
    "graph.add_node('jokeExplaination', jokeEx)\n",
    "\n",
    "graph.add_edge(START, 'jokeGenerator')\n",
    "graph.add_edge('jokeGenerator', 'jokeExplaination')\n",
    "graph.add_edge('jokeExplaination', END)\n",
    "\n",
    "checkpointer = InMemorySaver()\n",
    "workflow = graph.compile(checkpointer=checkpointer)"
   ]
  },
  {
   "cell_type": "markdown",
   "id": "cf6ff10d",
   "metadata": {},
   "source": [
    "##### 3.1 WorkFlow Representation"
   ]
  },
  {
   "cell_type": "code",
   "execution_count": null,
   "id": "4374bf06",
   "metadata": {},
   "outputs": [],
   "source": [
    "workflow"
   ]
  },
  {
   "cell_type": "markdown",
   "id": "ffb21f62",
   "metadata": {},
   "source": [
    "##### 3.2 WorkFlow Execution"
   ]
  },
  {
   "cell_type": "markdown",
   "id": "806546f8",
   "metadata": {},
   "source": [
    "3.2.1 Config "
   ]
  },
  {
   "cell_type": "code",
   "execution_count": null,
   "id": "0c17fac5",
   "metadata": {},
   "outputs": [],
   "source": [
    "config1 = {\n",
    "  'configurable':{'thread_id':'1'}\n",
    "}\n",
    "\n",
    "config12 = {\n",
    "  'configurable':{'thread_id':'12'}\n",
    "}"
   ]
  },
  {
   "cell_type": "markdown",
   "id": "ae5dd2f7",
   "metadata": {},
   "source": [
    "3.2.2 State Invoking"
   ]
  },
  {
   "cell_type": "code",
   "execution_count": 10,
   "id": "b49becf6",
   "metadata": {},
   "outputs": [
    {
     "data": {
      "text/plain": [
       "{'topic': 'Mango',\n",
       " 'joke': 'Why did the mango break up with the apricot?\\n\\nBecause it said, \"I\\'m starting to feel like you\\'re taking me for GRANITE!\" (As in, taking me for granted, but a play on the word \"granite\" which sounds like the pit of a mango!)',\n",
       " 'explaination': 'Okay, here\\'s a breakdown of the mango joke:\\n\\n**Explanation:**\\n\\nThe joke is about a mango ending a relationship with an apricot. The reason given is that the mango feels unappreciated. Instead of saying the common phrase \"taking me for *granted*,\" it says \"taking me for *granite*.\" This is funny because:\\n\\n*   **\"Granite\" sounds like \"granted.\"**\\n*   **\"Granite\" is a type of rock.**\\n*   **Mangoes have a hard, stony pit inside them.** This pit is technically called a \"stone\" or \"seed,\" but the association with something hard and rock-like is there.\\n\\nSo, the joke implies that the apricot is treating the mango like a hard, unyielding object instead of a valued partner.\\n\\n**Wordplay:**\\n\\n*   **Pun (Homophone):** The joke relies heavily on a pun, specifically a homophone. \"Granite\" and \"granted\" sound alike but have completely different meanings. The humor comes from the unexpected substitution of one word for the other in a familiar phrase.\\n\\n**Humor Style:**\\n\\n*   **Pun:** As mentioned above, the core of the joke is a pun.\\n\\n**Cultural/Contextual Background:**\\n\\n*   **Familiarity with the phrase \"taking someone for granted\":** The joke works best if the listener is familiar with the common idiom \"taking someone for granted.\" This phrase means to not appreciate someone or something enough.\\n\\n**Why it\\'s funny (or trying to be):**\\n\\nThe humor stems from the unexpected and slightly absurd connection between the common phrase, the sound of the word \"granite,\" and the physical characteristics of a mango. It\\'s a lighthearted, silly joke that relies on word association and a bit of cleverness. The fun comes from the play on words, and the unexpected twist that is related to the mango itself.'}"
      ]
     },
     "execution_count": 10,
     "metadata": {},
     "output_type": "execute_result"
    }
   ],
   "source": [
    "initalState = {\n",
    "  'topic':'Mango'\n",
    "}\n",
    "workflow.invoke(initalState, config=config1)"
   ]
  },
  {
   "cell_type": "code",
   "execution_count": 11,
   "id": "e34c6e52",
   "metadata": {},
   "outputs": [
    {
     "data": {
      "text/plain": [
       "{'topic': 'Pineapple',\n",
       " 'joke': 'Why did the pineapple break up with the coconut?\\n\\nBecause he said she was too clingy! He needed some space to, you know, be a little more prickly! ',\n",
       " 'explaination': 'Okay, here\\'s the breakdown of the pineapple joke:\\n\\n**Explanation:**\\n\\nThe joke is funny because it uses the characteristics of pineapples and coconuts to create a humorous situation about a romantic breakup. It plays on the common stereotype of clingy partners needing space in a relationship.\\n\\n*   The coconut is described as \"clingy\" because coconuts grow in clusters on palm trees, appearing to be close together or \"clingy\".\\n*   The pineapple wants space to be \"prickly\" because pineapples have a tough, spiky exterior. He wants to embrace his natural characteristic, which implies he wants to be more independent and less easy to approach.\\n\\n**Wordplay/Humor Style:**\\n\\n*   **Pun:** The core of the joke relies on puns related to the physical characteristics of pineapples and coconuts. \"Clingy\" refers to the way coconuts grow together, and \"prickly\" refers to the pineapple\\'s spiky exterior. These words are cleverly used to describe relationship dynamics.\\n*   **Personification:** The joke gives human qualities (like having relationships and needing space) to fruits, which is inherently absurd and funny.\\n\\n**Cultural/Contextual Background:**\\n\\n*   **Relationship Stereotypes:** The joke relies on the common understanding of relationship dynamics, specifically the idea of one partner being overly attached (\"clingy\") and the other needing more independence. This is a relatable concept for many people.\\n*   **Familiarity with Fruits:** The joke assumes the audience knows what pineapples and coconuts look like and have some basic understanding of their characteristics. However, the explanation of the pun makes it accessible even without that knowledge.'}"
      ]
     },
     "execution_count": 11,
     "metadata": {},
     "output_type": "execute_result"
    }
   ],
   "source": [
    "initalState = {\n",
    "  'topic':'Pineapple'\n",
    "}\n",
    "workflow.invoke(initalState, config=config12)"
   ]
  },
  {
   "cell_type": "markdown",
   "id": "ea213028",
   "metadata": {},
   "source": [
    "3.2.3 Final Outcome"
   ]
  },
  {
   "cell_type": "code",
   "execution_count": 12,
   "id": "b42753e0",
   "metadata": {},
   "outputs": [
    {
     "data": {
      "text/plain": [
       "StateSnapshot(values={'topic': 'Mango', 'joke': 'Why did the mango break up with the apricot?\\n\\nBecause it said, \"I\\'m starting to feel like you\\'re taking me for GRANITE!\" (As in, taking me for granted, but a play on the word \"granite\" which sounds like the pit of a mango!)', 'explaination': 'Okay, here\\'s a breakdown of the mango joke:\\n\\n**Explanation:**\\n\\nThe joke is about a mango ending a relationship with an apricot. The reason given is that the mango feels unappreciated. Instead of saying the common phrase \"taking me for *granted*,\" it says \"taking me for *granite*.\" This is funny because:\\n\\n*   **\"Granite\" sounds like \"granted.\"**\\n*   **\"Granite\" is a type of rock.**\\n*   **Mangoes have a hard, stony pit inside them.** This pit is technically called a \"stone\" or \"seed,\" but the association with something hard and rock-like is there.\\n\\nSo, the joke implies that the apricot is treating the mango like a hard, unyielding object instead of a valued partner.\\n\\n**Wordplay:**\\n\\n*   **Pun (Homophone):** The joke relies heavily on a pun, specifically a homophone. \"Granite\" and \"granted\" sound alike but have completely different meanings. The humor comes from the unexpected substitution of one word for the other in a familiar phrase.\\n\\n**Humor Style:**\\n\\n*   **Pun:** As mentioned above, the core of the joke is a pun.\\n\\n**Cultural/Contextual Background:**\\n\\n*   **Familiarity with the phrase \"taking someone for granted\":** The joke works best if the listener is familiar with the common idiom \"taking someone for granted.\" This phrase means to not appreciate someone or something enough.\\n\\n**Why it\\'s funny (or trying to be):**\\n\\nThe humor stems from the unexpected and slightly absurd connection between the common phrase, the sound of the word \"granite,\" and the physical characteristics of a mango. It\\'s a lighthearted, silly joke that relies on word association and a bit of cleverness. The fun comes from the play on words, and the unexpected twist that is related to the mango itself.'}, next=(), config={'configurable': {'thread_id': '1', 'checkpoint_ns': '', 'checkpoint_id': '1f08a0bf-8826-606e-8002-b5fbc90abe3a'}}, metadata={'source': 'loop', 'step': 2, 'parents': {}}, created_at='2025-09-05T03:54:06.705213+00:00', parent_config={'configurable': {'thread_id': '1', 'checkpoint_ns': '', 'checkpoint_id': '1f08a0bf-65a0-6a9d-8001-22c65b51a528'}}, tasks=(), interrupts=())"
      ]
     },
     "execution_count": 12,
     "metadata": {},
     "output_type": "execute_result"
    }
   ],
   "source": [
    "workflow.get_state(config1)"
   ]
  },
  {
   "cell_type": "code",
   "execution_count": 13,
   "id": "248e9782",
   "metadata": {},
   "outputs": [
    {
     "data": {
      "text/plain": [
       "StateSnapshot(values={'topic': 'Pineapple', 'joke': 'Why did the pineapple break up with the coconut?\\n\\nBecause he said she was too clingy! He needed some space to, you know, be a little more prickly! ', 'explaination': 'Okay, here\\'s the breakdown of the pineapple joke:\\n\\n**Explanation:**\\n\\nThe joke is funny because it uses the characteristics of pineapples and coconuts to create a humorous situation about a romantic breakup. It plays on the common stereotype of clingy partners needing space in a relationship.\\n\\n*   The coconut is described as \"clingy\" because coconuts grow in clusters on palm trees, appearing to be close together or \"clingy\".\\n*   The pineapple wants space to be \"prickly\" because pineapples have a tough, spiky exterior. He wants to embrace his natural characteristic, which implies he wants to be more independent and less easy to approach.\\n\\n**Wordplay/Humor Style:**\\n\\n*   **Pun:** The core of the joke relies on puns related to the physical characteristics of pineapples and coconuts. \"Clingy\" refers to the way coconuts grow together, and \"prickly\" refers to the pineapple\\'s spiky exterior. These words are cleverly used to describe relationship dynamics.\\n*   **Personification:** The joke gives human qualities (like having relationships and needing space) to fruits, which is inherently absurd and funny.\\n\\n**Cultural/Contextual Background:**\\n\\n*   **Relationship Stereotypes:** The joke relies on the common understanding of relationship dynamics, specifically the idea of one partner being overly attached (\"clingy\") and the other needing more independence. This is a relatable concept for many people.\\n*   **Familiarity with Fruits:** The joke assumes the audience knows what pineapples and coconuts look like and have some basic understanding of their characteristics. However, the explanation of the pun makes it accessible even without that knowledge.'}, next=(), config={'configurable': {'thread_id': '12', 'checkpoint_ns': '', 'checkpoint_id': '1f08a0bf-bdf5-60ca-8002-1b36fbe9bba6'}}, metadata={'source': 'loop', 'step': 2, 'parents': {}}, created_at='2025-09-05T03:54:12.347461+00:00', parent_config={'configurable': {'thread_id': '12', 'checkpoint_ns': '', 'checkpoint_id': '1f08a0bf-a29f-61f9-8001-94ba9c6c91bc'}}, tasks=(), interrupts=())"
      ]
     },
     "execution_count": 13,
     "metadata": {},
     "output_type": "execute_result"
    }
   ],
   "source": [
    "workflow.get_state(config12)"
   ]
  },
  {
   "cell_type": "markdown",
   "id": "9a2caa9d",
   "metadata": {},
   "source": [
    "3.2.4 Chat History by config number"
   ]
  },
  {
   "cell_type": "code",
   "execution_count": 14,
   "id": "0db9fcda",
   "metadata": {},
   "outputs": [
    {
     "data": {
      "text/plain": [
       "[StateSnapshot(values={'topic': 'Mango', 'joke': 'Why did the mango break up with the apricot?\\n\\nBecause it said, \"I\\'m starting to feel like you\\'re taking me for GRANITE!\" (As in, taking me for granted, but a play on the word \"granite\" which sounds like the pit of a mango!)', 'explaination': 'Okay, here\\'s a breakdown of the mango joke:\\n\\n**Explanation:**\\n\\nThe joke is about a mango ending a relationship with an apricot. The reason given is that the mango feels unappreciated. Instead of saying the common phrase \"taking me for *granted*,\" it says \"taking me for *granite*.\" This is funny because:\\n\\n*   **\"Granite\" sounds like \"granted.\"**\\n*   **\"Granite\" is a type of rock.**\\n*   **Mangoes have a hard, stony pit inside them.** This pit is technically called a \"stone\" or \"seed,\" but the association with something hard and rock-like is there.\\n\\nSo, the joke implies that the apricot is treating the mango like a hard, unyielding object instead of a valued partner.\\n\\n**Wordplay:**\\n\\n*   **Pun (Homophone):** The joke relies heavily on a pun, specifically a homophone. \"Granite\" and \"granted\" sound alike but have completely different meanings. The humor comes from the unexpected substitution of one word for the other in a familiar phrase.\\n\\n**Humor Style:**\\n\\n*   **Pun:** As mentioned above, the core of the joke is a pun.\\n\\n**Cultural/Contextual Background:**\\n\\n*   **Familiarity with the phrase \"taking someone for granted\":** The joke works best if the listener is familiar with the common idiom \"taking someone for granted.\" This phrase means to not appreciate someone or something enough.\\n\\n**Why it\\'s funny (or trying to be):**\\n\\nThe humor stems from the unexpected and slightly absurd connection between the common phrase, the sound of the word \"granite,\" and the physical characteristics of a mango. It\\'s a lighthearted, silly joke that relies on word association and a bit of cleverness. The fun comes from the play on words, and the unexpected twist that is related to the mango itself.'}, next=(), config={'configurable': {'thread_id': '1', 'checkpoint_ns': '', 'checkpoint_id': '1f08a0bf-8826-606e-8002-b5fbc90abe3a'}}, metadata={'source': 'loop', 'step': 2, 'parents': {}}, created_at='2025-09-05T03:54:06.705213+00:00', parent_config={'configurable': {'thread_id': '1', 'checkpoint_ns': '', 'checkpoint_id': '1f08a0bf-65a0-6a9d-8001-22c65b51a528'}}, tasks=(), interrupts=()),\n",
       " StateSnapshot(values={'topic': 'Mango', 'joke': 'Why did the mango break up with the apricot?\\n\\nBecause it said, \"I\\'m starting to feel like you\\'re taking me for GRANITE!\" (As in, taking me for granted, but a play on the word \"granite\" which sounds like the pit of a mango!)'}, next=('jokeExplaination',), config={'configurable': {'thread_id': '1', 'checkpoint_ns': '', 'checkpoint_id': '1f08a0bf-65a0-6a9d-8001-22c65b51a528'}}, metadata={'source': 'loop', 'step': 1, 'parents': {}}, created_at='2025-09-05T03:54:03.085438+00:00', parent_config={'configurable': {'thread_id': '1', 'checkpoint_ns': '', 'checkpoint_id': '1f08a0bf-45c3-64ca-8000-b40647e6d9c8'}}, tasks=(PregelTask(id='85382628-f90b-2115-d2aa-990671c06ec1', name='jokeExplaination', path=('__pregel_pull', 'jokeExplaination'), error=None, interrupts=(), state=None, result={'explaination': 'Okay, here\\'s a breakdown of the mango joke:\\n\\n**Explanation:**\\n\\nThe joke is about a mango ending a relationship with an apricot. The reason given is that the mango feels unappreciated. Instead of saying the common phrase \"taking me for *granted*,\" it says \"taking me for *granite*.\" This is funny because:\\n\\n*   **\"Granite\" sounds like \"granted.\"**\\n*   **\"Granite\" is a type of rock.**\\n*   **Mangoes have a hard, stony pit inside them.** This pit is technically called a \"stone\" or \"seed,\" but the association with something hard and rock-like is there.\\n\\nSo, the joke implies that the apricot is treating the mango like a hard, unyielding object instead of a valued partner.\\n\\n**Wordplay:**\\n\\n*   **Pun (Homophone):** The joke relies heavily on a pun, specifically a homophone. \"Granite\" and \"granted\" sound alike but have completely different meanings. The humor comes from the unexpected substitution of one word for the other in a familiar phrase.\\n\\n**Humor Style:**\\n\\n*   **Pun:** As mentioned above, the core of the joke is a pun.\\n\\n**Cultural/Contextual Background:**\\n\\n*   **Familiarity with the phrase \"taking someone for granted\":** The joke works best if the listener is familiar with the common idiom \"taking someone for granted.\" This phrase means to not appreciate someone or something enough.\\n\\n**Why it\\'s funny (or trying to be):**\\n\\nThe humor stems from the unexpected and slightly absurd connection between the common phrase, the sound of the word \"granite,\" and the physical characteristics of a mango. It\\'s a lighthearted, silly joke that relies on word association and a bit of cleverness. The fun comes from the play on words, and the unexpected twist that is related to the mango itself.'}),), interrupts=()),\n",
       " StateSnapshot(values={'topic': 'Mango'}, next=('jokeGenerator',), config={'configurable': {'thread_id': '1', 'checkpoint_ns': '', 'checkpoint_id': '1f08a0bf-45c3-64ca-8000-b40647e6d9c8'}}, metadata={'source': 'loop', 'step': 0, 'parents': {}}, created_at='2025-09-05T03:53:59.744163+00:00', parent_config={'configurable': {'thread_id': '1', 'checkpoint_ns': '', 'checkpoint_id': '1f08a0bf-45b9-61b0-bfff-9f0069310bbb'}}, tasks=(PregelTask(id='05f437db-c170-d02e-52f0-296c581b6d5b', name='jokeGenerator', path=('__pregel_pull', 'jokeGenerator'), error=None, interrupts=(), state=None, result={'joke': 'Why did the mango break up with the apricot?\\n\\nBecause it said, \"I\\'m starting to feel like you\\'re taking me for GRANITE!\" (As in, taking me for granted, but a play on the word \"granite\" which sounds like the pit of a mango!)'}),), interrupts=()),\n",
       " StateSnapshot(values={}, next=('__start__',), config={'configurable': {'thread_id': '1', 'checkpoint_ns': '', 'checkpoint_id': '1f08a0bf-45b9-61b0-bfff-9f0069310bbb'}}, metadata={'source': 'input', 'step': -1, 'parents': {}}, created_at='2025-09-05T03:53:59.740002+00:00', parent_config=None, tasks=(PregelTask(id='1d9a0669-7d90-a2ed-4cff-d44ba07e7f22', name='__start__', path=('__pregel_pull', '__start__'), error=None, interrupts=(), state=None, result={'topic': 'Mango'}),), interrupts=())]"
      ]
     },
     "execution_count": 14,
     "metadata": {},
     "output_type": "execute_result"
    }
   ],
   "source": [
    "list(workflow.get_state_history(config1))"
   ]
  },
  {
   "cell_type": "code",
   "execution_count": 15,
   "id": "c1274c2f",
   "metadata": {},
   "outputs": [
    {
     "data": {
      "text/plain": [
       "[StateSnapshot(values={'topic': 'Pineapple', 'joke': 'Why did the pineapple break up with the coconut?\\n\\nBecause he said she was too clingy! He needed some space to, you know, be a little more prickly! ', 'explaination': 'Okay, here\\'s the breakdown of the pineapple joke:\\n\\n**Explanation:**\\n\\nThe joke is funny because it uses the characteristics of pineapples and coconuts to create a humorous situation about a romantic breakup. It plays on the common stereotype of clingy partners needing space in a relationship.\\n\\n*   The coconut is described as \"clingy\" because coconuts grow in clusters on palm trees, appearing to be close together or \"clingy\".\\n*   The pineapple wants space to be \"prickly\" because pineapples have a tough, spiky exterior. He wants to embrace his natural characteristic, which implies he wants to be more independent and less easy to approach.\\n\\n**Wordplay/Humor Style:**\\n\\n*   **Pun:** The core of the joke relies on puns related to the physical characteristics of pineapples and coconuts. \"Clingy\" refers to the way coconuts grow together, and \"prickly\" refers to the pineapple\\'s spiky exterior. These words are cleverly used to describe relationship dynamics.\\n*   **Personification:** The joke gives human qualities (like having relationships and needing space) to fruits, which is inherently absurd and funny.\\n\\n**Cultural/Contextual Background:**\\n\\n*   **Relationship Stereotypes:** The joke relies on the common understanding of relationship dynamics, specifically the idea of one partner being overly attached (\"clingy\") and the other needing more independence. This is a relatable concept for many people.\\n*   **Familiarity with Fruits:** The joke assumes the audience knows what pineapples and coconuts look like and have some basic understanding of their characteristics. However, the explanation of the pun makes it accessible even without that knowledge.'}, next=(), config={'configurable': {'thread_id': '12', 'checkpoint_ns': '', 'checkpoint_id': '1f08a0bf-bdf5-60ca-8002-1b36fbe9bba6'}}, metadata={'source': 'loop', 'step': 2, 'parents': {}}, created_at='2025-09-05T03:54:12.347461+00:00', parent_config={'configurable': {'thread_id': '12', 'checkpoint_ns': '', 'checkpoint_id': '1f08a0bf-a29f-61f9-8001-94ba9c6c91bc'}}, tasks=(), interrupts=()),\n",
       " StateSnapshot(values={'topic': 'Pineapple', 'joke': 'Why did the pineapple break up with the coconut?\\n\\nBecause he said she was too clingy! He needed some space to, you know, be a little more prickly! '}, next=('jokeExplaination',), config={'configurable': {'thread_id': '12', 'checkpoint_ns': '', 'checkpoint_id': '1f08a0bf-a29f-61f9-8001-94ba9c6c91bc'}}, metadata={'source': 'loop', 'step': 1, 'parents': {}}, created_at='2025-09-05T03:54:09.481095+00:00', parent_config={'configurable': {'thread_id': '12', 'checkpoint_ns': '', 'checkpoint_id': '1f08a0bf-88dc-680a-8000-df2dde6dcf7a'}}, tasks=(PregelTask(id='ffd5fe7f-17db-7f5a-6157-91efa3cf0342', name='jokeExplaination', path=('__pregel_pull', 'jokeExplaination'), error=None, interrupts=(), state=None, result={'explaination': 'Okay, here\\'s the breakdown of the pineapple joke:\\n\\n**Explanation:**\\n\\nThe joke is funny because it uses the characteristics of pineapples and coconuts to create a humorous situation about a romantic breakup. It plays on the common stereotype of clingy partners needing space in a relationship.\\n\\n*   The coconut is described as \"clingy\" because coconuts grow in clusters on palm trees, appearing to be close together or \"clingy\".\\n*   The pineapple wants space to be \"prickly\" because pineapples have a tough, spiky exterior. He wants to embrace his natural characteristic, which implies he wants to be more independent and less easy to approach.\\n\\n**Wordplay/Humor Style:**\\n\\n*   **Pun:** The core of the joke relies on puns related to the physical characteristics of pineapples and coconuts. \"Clingy\" refers to the way coconuts grow together, and \"prickly\" refers to the pineapple\\'s spiky exterior. These words are cleverly used to describe relationship dynamics.\\n*   **Personification:** The joke gives human qualities (like having relationships and needing space) to fruits, which is inherently absurd and funny.\\n\\n**Cultural/Contextual Background:**\\n\\n*   **Relationship Stereotypes:** The joke relies on the common understanding of relationship dynamics, specifically the idea of one partner being overly attached (\"clingy\") and the other needing more independence. This is a relatable concept for many people.\\n*   **Familiarity with Fruits:** The joke assumes the audience knows what pineapples and coconuts look like and have some basic understanding of their characteristics. However, the explanation of the pun makes it accessible even without that knowledge.'}),), interrupts=()),\n",
       " StateSnapshot(values={'topic': 'Pineapple'}, next=('jokeGenerator',), config={'configurable': {'thread_id': '12', 'checkpoint_ns': '', 'checkpoint_id': '1f08a0bf-88dc-680a-8000-df2dde6dcf7a'}}, metadata={'source': 'loop', 'step': 0, 'parents': {}}, created_at='2025-09-05T03:54:06.779953+00:00', parent_config={'configurable': {'thread_id': '12', 'checkpoint_ns': '', 'checkpoint_id': '1f08a0bf-88d3-61e0-bfff-4bded74b9526'}}, tasks=(PregelTask(id='9ba6af6d-0d4b-ae8d-f34c-a54edfc8bb94', name='jokeGenerator', path=('__pregel_pull', 'jokeGenerator'), error=None, interrupts=(), state=None, result={'joke': 'Why did the pineapple break up with the coconut?\\n\\nBecause he said she was too clingy! He needed some space to, you know, be a little more prickly! '}),), interrupts=()),\n",
       " StateSnapshot(values={}, next=('__start__',), config={'configurable': {'thread_id': '12', 'checkpoint_ns': '', 'checkpoint_id': '1f08a0bf-88d3-61e0-bfff-4bded74b9526'}}, metadata={'source': 'input', 'step': -1, 'parents': {}}, created_at='2025-09-05T03:54:06.776119+00:00', parent_config=None, tasks=(PregelTask(id='cb8ae2a9-3541-7a06-b23e-334908174e37', name='__start__', path=('__pregel_pull', '__start__'), error=None, interrupts=(), state=None, result={'topic': 'Pineapple'}),), interrupts=())]"
      ]
     },
     "execution_count": 15,
     "metadata": {},
     "output_type": "execute_result"
    }
   ],
   "source": [
    "list(workflow.get_state_history(config12))"
   ]
  }
 ],
 "metadata": {
  "kernelspec": {
   "display_name": "myenv",
   "language": "python",
   "name": "python3"
  },
  "language_info": {
   "codemirror_mode": {
    "name": "ipython",
    "version": 3
   },
   "file_extension": ".py",
   "mimetype": "text/x-python",
   "name": "python",
   "nbconvert_exporter": "python",
   "pygments_lexer": "ipython3",
   "version": "3.13.5"
  }
 },
 "nbformat": 4,
 "nbformat_minor": 5
}
