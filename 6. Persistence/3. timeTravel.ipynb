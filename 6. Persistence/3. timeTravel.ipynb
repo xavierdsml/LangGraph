{
 "cells": [
  {
   "cell_type": "markdown",
   "id": "33e7407e",
   "metadata": {},
   "source": [
    "The JokeGeneration workFlow in the 6.Persistance/1. shortTermMemory.ipynb.\n",
    "\n",
    "So, we use the same code for the concept of TIME-TRAVEL : In which we go to any perivous checkpoint and then from that checkpoint GENERATE the flow..!!"
   ]
  },
  {
   "cell_type": "code",
   "execution_count": 7,
   "id": "553dc0e9",
   "metadata": {},
   "outputs": [
    {
     "name": "stderr",
     "output_type": "stream",
     "text": [
      "c:\\Users\\Lenovo\\Desktop\\text\\LangGraph\\myenv\\Lib\\site-packages\\tqdm\\auto.py:21: TqdmWarning: IProgress not found. Please update jupyter and ipywidgets. See https://ipywidgets.readthedocs.io/en/stable/user_install.html\n",
      "  from .autonotebook import tqdm as notebook_tqdm\n"
     ]
    }
   ],
   "source": [
    "from langgraph.graph import StateGraph, START, END\n",
    "from langgraph.checkpoint.memory import InMemorySaver\n",
    "\n",
    "from langchain_google_genai import ChatGoogleGenerativeAI\n",
    "from typing import TypedDict\n",
    "from dotenv import load_dotenv\n",
    "\n",
    "load_dotenv()\n",
    "\n",
    "jokeLLM = ChatGoogleGenerativeAI(\n",
    "  model='gemini-2.0-flash',\n",
    "  temperature=0.7\n",
    ")\n",
    "\n",
    "class jokeState(TypedDict):\n",
    "  topic:str\n",
    "  joke:str\n",
    "  explaination:str\n",
    "\n",
    "\n",
    "def jokeGen(state:jokeState)->jokeState:\n",
    "  prompt = f\"\"\"Write a funny, creative, and clean joke based on the topic: {state['topic']}. \n",
    "Make sure the joke is easy to understand, engaging, and suitable for a general audience.\"\"\"\n",
    "\n",
    "  response = jokeLLM.invoke(prompt).content\n",
    "  return {'joke':response}\n",
    "\n",
    "\n",
    "def jokeEx(state:jokeState)->jokeState:\n",
    "  prompt = prompt = f\"\"\"\n",
    "I have written a joke on the topic: \"{state['topic']}\".\n",
    "Here is the joke: \"{state['joke']}\".\n",
    "\n",
    "Please explain the joke in simple and clear terms so that anyone,\n",
    "even someone unfamiliar with the topic, can understand why it is funny. \n",
    "Also highlight the wordplay, humor style (pun, irony, sarcasm, etc.), \n",
    "and the cultural or contextual background if relevant.\n",
    "\"\"\"\n",
    "\n",
    "  response = jokeLLM.invoke(prompt).content\n",
    "  return {'explaination':response}\n",
    "\n",
    "\n",
    "graph = StateGraph(jokeState)\n",
    "\n",
    "graph.add_node('jokeGenerator', jokeGen)\n",
    "graph.add_node('jokeExplaination', jokeEx)\n",
    "\n",
    "graph.add_edge(START, 'jokeGenerator')\n",
    "graph.add_edge('jokeGenerator', 'jokeExplaination')\n",
    "graph.add_edge('jokeExplaination', END)\n",
    "\n",
    "checkpointer = InMemorySaver()\n",
    "workflow = graph.compile(checkpointer=checkpointer)\n",
    "\n",
    "config1 = {\n",
    "  'configurable':{'thread_id':'1'}\n",
    "}\n",
    "\n",
    "config12 = {\n",
    "  'configurable':{'thread_id':'12'}\n",
    "}\n",
    "\n"
   ]
  },
  {
   "cell_type": "markdown",
   "id": "f1f80db4",
   "metadata": {},
   "source": [
    "#### WorkFlow Execution"
   ]
  },
  {
   "cell_type": "code",
   "execution_count": 8,
   "id": "c622e413",
   "metadata": {},
   "outputs": [
    {
     "data": {
      "text/plain": [
       "{'topic': 'Mango',\n",
       " 'joke': \"Why did the mango break up with the coconut?\\n\\nBecause the coconut was too dry and the mango felt like they just couldn't *mang-go* on like that!\",\n",
       " 'explaination': 'Okay, here\\'s a breakdown of the mango joke:\\n\\n**Explanation:**\\n\\nThe joke is a play on words about why a mango and a coconut ended a relationship. The reason given is that the coconut was \"too dry\" (meaning boring or lacking in personality) and the mango felt they couldn\\'t \"mang-go\" on.\\n\\n**Why it\\'s funny:**\\n\\n*   **Wordplay (Pun):** The humor comes from the pun \"mang-go,\" which sounds like \"mango\" but is also used as a substitute for the phrase \"move on\" or \"continue\" in a relationship. This creates a funny connection between the fruit and the relationship problem.\\n\\n*   **Humor Style (Pun):** The joke heavily relies on a pun, making it a pun-based joke.\\n\\n*   **Cultural/Contextual Background:** There isn\\'t a strong cultural or contextual background necessary to understand the joke. The joke plays on the common knowledge that mangoes are juicy and flavorful, whereas coconuts are sometimes associated with a drier texture. The joke is also built on the shared understanding that \"dry\" can also describe a dull personality.'}"
      ]
     },
     "execution_count": 8,
     "metadata": {},
     "output_type": "execute_result"
    }
   ],
   "source": [
    "initalState = {\n",
    "  'topic':'Mango'\n",
    "}\n",
    "workflow.invoke(initalState, config=config1)"
   ]
  },
  {
   "cell_type": "code",
   "execution_count": 9,
   "id": "814f0491",
   "metadata": {},
   "outputs": [
    {
     "data": {
      "text/plain": [
       "{'topic': 'Pineapple',\n",
       " 'joke': 'Why did the pineapple break up with the coconut?\\n\\nBecause he said she was too clingy, and he needed some *space* between them... ya know, like the space between the spikes on his head! He said, \"You\\'re coconuts for me, but I need my room!\"',\n",
       " 'explaination': 'Okay, let\\'s break down the pineapple joke:\\n\\n**Explanation:**\\n\\nThe joke is about a pineapple breaking up with a coconut. The humor comes from personifying these fruits and giving them human-like relationship problems. The punchline explains the reason for the breakup: the pineapple feels the coconut is too attached and needs more personal space. This is then linked back to the physical characteristics of the pineapple – its spiky exterior.\\n\\n**Why it\\'s funny:**\\n\\n*   **Personification:** The joke\\'s basic premise is funny because it gives fruits human characteristics and relationship issues. We don\\'t normally think of pineapples and coconuts having romantic relationships.\\n*   **Relatability:** The idea of needing personal space in a relationship is a common and relatable experience for many people. This makes the joke resonate.\\n*   **Physical Analogy:** The joke connects the *emotional* need for space with the *physical* space between the spikes on a pineapple. This incongruity is humorous.\\n\\n**Wordplay & Humor Style:**\\n\\n*   **Pun (Wordplay):** The core humor relies on a pun. The pineapple is talking about \"space\" in a relationship, but also alluding to the literal space between the spikes on its head.\\n*   **Pun (Wordplay):** The pineapple says \"You\\'re coconuts for me\". The phrase \"coconuts\" is slang for \"crazy\" or \"mad\" for someone.\\n*   **Pun (Wordplay):** The phrase \"I need my room!\" is a play on \"I need room to breathe.\"\\n\\n**Cultural/Contextual Background:**\\n\\n*   **Familiar Fruits:** Pineapples and coconuts are relatively common and recognizable fruits, making the joke accessible to most people.\\n*   **Relationship Dynamics:** The joke touches on common relationship issues like clinginess and the need for personal space, which are understood across many cultures.\\n\\nIn essence, the joke is funny because it combines personification, relatability, and clever wordplay to create an unexpected and humorous scenario.'}"
      ]
     },
     "execution_count": 9,
     "metadata": {},
     "output_type": "execute_result"
    }
   ],
   "source": [
    "initalState = {\n",
    "  'topic':'Pineapple'\n",
    "}\n",
    "workflow.invoke(initalState, config=config12)"
   ]
  },
  {
   "cell_type": "markdown",
   "id": "22083e09",
   "metadata": {},
   "source": [
    "## ChatHistroy"
   ]
  },
  {
   "cell_type": "markdown",
   "id": "82fed840",
   "metadata": {},
   "source": [
    "chatHistroy of config1"
   ]
  },
  {
   "cell_type": "code",
   "execution_count": 13,
   "id": "827309b4",
   "metadata": {},
   "outputs": [
    {
     "data": {
      "text/plain": [
       "[StateSnapshot(values={'topic': 'Mango', 'joke': \"Why did the mango break up with the coconut?\\n\\nBecause the coconut was too dry and the mango felt like they just couldn't *mang-go* on like that!\", 'explaination': 'Okay, here\\'s a breakdown of the mango joke:\\n\\n**Explanation:**\\n\\nThe joke is a play on words about why a mango and a coconut ended a relationship. The reason given is that the coconut was \"too dry\" (meaning boring or lacking in personality) and the mango felt they couldn\\'t \"mang-go\" on.\\n\\n**Why it\\'s funny:**\\n\\n*   **Wordplay (Pun):** The humor comes from the pun \"mang-go,\" which sounds like \"mango\" but is also used as a substitute for the phrase \"move on\" or \"continue\" in a relationship. This creates a funny connection between the fruit and the relationship problem.\\n\\n*   **Humor Style (Pun):** The joke heavily relies on a pun, making it a pun-based joke.\\n\\n*   **Cultural/Contextual Background:** There isn\\'t a strong cultural or contextual background necessary to understand the joke. The joke plays on the common knowledge that mangoes are juicy and flavorful, whereas coconuts are sometimes associated with a drier texture. The joke is also built on the shared understanding that \"dry\" can also describe a dull personality.'}, next=(), config={'configurable': {'thread_id': '1', 'checkpoint_ns': '', 'checkpoint_id': '1f08a1b6-f415-6622-8002-4877aaa55c19'}}, metadata={'source': 'loop', 'step': 2, 'parents': {}}, created_at='2025-09-05T05:44:48.378745+00:00', parent_config={'configurable': {'thread_id': '1', 'checkpoint_ns': '', 'checkpoint_id': '1f08a1b6-df77-6fc1-8001-5498ca3b048b'}}, tasks=(), interrupts=()),\n",
       " StateSnapshot(values={'topic': 'Mango', 'joke': \"Why did the mango break up with the coconut?\\n\\nBecause the coconut was too dry and the mango felt like they just couldn't *mang-go* on like that!\"}, next=('jokeExplaination',), config={'configurable': {'thread_id': '1', 'checkpoint_ns': '', 'checkpoint_id': '1f08a1b6-df77-6fc1-8001-5498ca3b048b'}}, metadata={'source': 'loop', 'step': 1, 'parents': {}}, created_at='2025-09-05T05:44:46.217171+00:00', parent_config={'configurable': {'thread_id': '1', 'checkpoint_ns': '', 'checkpoint_id': '1f08a1b6-c851-6a62-8000-f63d5ee0383f'}}, tasks=(PregelTask(id='6417afe4-544f-3461-3a60-35d6135c85ed', name='jokeExplaination', path=('__pregel_pull', 'jokeExplaination'), error=None, interrupts=(), state=None, result={'explaination': 'Okay, here\\'s a breakdown of the mango joke:\\n\\n**Explanation:**\\n\\nThe joke is a play on words about why a mango and a coconut ended a relationship. The reason given is that the coconut was \"too dry\" (meaning boring or lacking in personality) and the mango felt they couldn\\'t \"mang-go\" on.\\n\\n**Why it\\'s funny:**\\n\\n*   **Wordplay (Pun):** The humor comes from the pun \"mang-go,\" which sounds like \"mango\" but is also used as a substitute for the phrase \"move on\" or \"continue\" in a relationship. This creates a funny connection between the fruit and the relationship problem.\\n\\n*   **Humor Style (Pun):** The joke heavily relies on a pun, making it a pun-based joke.\\n\\n*   **Cultural/Contextual Background:** There isn\\'t a strong cultural or contextual background necessary to understand the joke. The joke plays on the common knowledge that mangoes are juicy and flavorful, whereas coconuts are sometimes associated with a drier texture. The joke is also built on the shared understanding that \"dry\" can also describe a dull personality.'}),), interrupts=()),\n",
       " StateSnapshot(values={'topic': 'Mango'}, next=('jokeGenerator',), config={'configurable': {'thread_id': '1', 'checkpoint_ns': '', 'checkpoint_id': '1f08a1b6-c851-6a62-8000-f63d5ee0383f'}}, metadata={'source': 'loop', 'step': 0, 'parents': {}}, created_at='2025-09-05T05:44:43.789745+00:00', parent_config={'configurable': {'thread_id': '1', 'checkpoint_ns': '', 'checkpoint_id': '1f08a1b6-c84a-6a41-bfff-8c9f73ff09bf'}}, tasks=(PregelTask(id='e4d2715c-9b52-ff88-c009-c4762609f26e', name='jokeGenerator', path=('__pregel_pull', 'jokeGenerator'), error=None, interrupts=(), state=None, result={'joke': \"Why did the mango break up with the coconut?\\n\\nBecause the coconut was too dry and the mango felt like they just couldn't *mang-go* on like that!\"}),), interrupts=()),\n",
       " StateSnapshot(values={}, next=('__start__',), config={'configurable': {'thread_id': '1', 'checkpoint_ns': '', 'checkpoint_id': '1f08a1b6-c84a-6a41-bfff-8c9f73ff09bf'}}, metadata={'source': 'input', 'step': -1, 'parents': {}}, created_at='2025-09-05T05:44:43.786881+00:00', parent_config=None, tasks=(PregelTask(id='1e8bbe54-5329-5ddb-3539-509b6fa1c4b7', name='__start__', path=('__pregel_pull', '__start__'), error=None, interrupts=(), state=None, result={'topic': 'Mango'}),), interrupts=())]"
      ]
     },
     "execution_count": 13,
     "metadata": {},
     "output_type": "execute_result"
    }
   ],
   "source": [
    "list(workflow.get_state_history(config1))"
   ]
  },
  {
   "cell_type": "markdown",
   "id": "55364d3d",
   "metadata": {},
   "source": [
    "chatHistroy of config12"
   ]
  },
  {
   "cell_type": "code",
   "execution_count": 14,
   "id": "83000e8d",
   "metadata": {},
   "outputs": [
    {
     "data": {
      "text/plain": [
       "[StateSnapshot(values={'topic': 'Pineapple', 'joke': 'Why did the pineapple break up with the coconut?\\n\\nBecause he said she was too clingy, and he needed some *space* between them... ya know, like the space between the spikes on his head! He said, \"You\\'re coconuts for me, but I need my room!\"', 'explaination': 'Okay, let\\'s break down the pineapple joke:\\n\\n**Explanation:**\\n\\nThe joke is about a pineapple breaking up with a coconut. The humor comes from personifying these fruits and giving them human-like relationship problems. The punchline explains the reason for the breakup: the pineapple feels the coconut is too attached and needs more personal space. This is then linked back to the physical characteristics of the pineapple – its spiky exterior.\\n\\n**Why it\\'s funny:**\\n\\n*   **Personification:** The joke\\'s basic premise is funny because it gives fruits human characteristics and relationship issues. We don\\'t normally think of pineapples and coconuts having romantic relationships.\\n*   **Relatability:** The idea of needing personal space in a relationship is a common and relatable experience for many people. This makes the joke resonate.\\n*   **Physical Analogy:** The joke connects the *emotional* need for space with the *physical* space between the spikes on a pineapple. This incongruity is humorous.\\n\\n**Wordplay & Humor Style:**\\n\\n*   **Pun (Wordplay):** The core humor relies on a pun. The pineapple is talking about \"space\" in a relationship, but also alluding to the literal space between the spikes on its head.\\n*   **Pun (Wordplay):** The pineapple says \"You\\'re coconuts for me\". The phrase \"coconuts\" is slang for \"crazy\" or \"mad\" for someone.\\n*   **Pun (Wordplay):** The phrase \"I need my room!\" is a play on \"I need room to breathe.\"\\n\\n**Cultural/Contextual Background:**\\n\\n*   **Familiar Fruits:** Pineapples and coconuts are relatively common and recognizable fruits, making the joke accessible to most people.\\n*   **Relationship Dynamics:** The joke touches on common relationship issues like clinginess and the need for personal space, which are understood across many cultures.\\n\\nIn essence, the joke is funny because it combines personification, relatability, and clever wordplay to create an unexpected and humorous scenario.'}, next=(), config={'configurable': {'thread_id': '12', 'checkpoint_ns': '', 'checkpoint_id': '1f08a1b7-8a9c-695d-8002-b013462e117b'}}, metadata={'source': 'loop', 'step': 2, 'parents': {}}, created_at='2025-09-05T05:45:04.162799+00:00', parent_config={'configurable': {'thread_id': '12', 'checkpoint_ns': '', 'checkpoint_id': '1f08a1b7-6545-66c1-8001-b8133b0ded71'}}, tasks=(), interrupts=()),\n",
       " StateSnapshot(values={'topic': 'Pineapple', 'joke': 'Why did the pineapple break up with the coconut?\\n\\nBecause he said she was too clingy, and he needed some *space* between them... ya know, like the space between the spikes on his head! He said, \"You\\'re coconuts for me, but I need my room!\"'}, next=('jokeExplaination',), config={'configurable': {'thread_id': '12', 'checkpoint_ns': '', 'checkpoint_id': '1f08a1b7-6545-66c1-8001-b8133b0ded71'}}, metadata={'source': 'loop', 'step': 1, 'parents': {}}, created_at='2025-09-05T05:45:00.247378+00:00', parent_config={'configurable': {'thread_id': '12', 'checkpoint_ns': '', 'checkpoint_id': '1f08a1b7-5a7e-647c-8000-88b7eb1e08cb'}}, tasks=(PregelTask(id='106b2d3e-ec40-b4ea-25dd-74f5e4ef0130', name='jokeExplaination', path=('__pregel_pull', 'jokeExplaination'), error=None, interrupts=(), state=None, result={'explaination': 'Okay, let\\'s break down the pineapple joke:\\n\\n**Explanation:**\\n\\nThe joke is about a pineapple breaking up with a coconut. The humor comes from personifying these fruits and giving them human-like relationship problems. The punchline explains the reason for the breakup: the pineapple feels the coconut is too attached and needs more personal space. This is then linked back to the physical characteristics of the pineapple – its spiky exterior.\\n\\n**Why it\\'s funny:**\\n\\n*   **Personification:** The joke\\'s basic premise is funny because it gives fruits human characteristics and relationship issues. We don\\'t normally think of pineapples and coconuts having romantic relationships.\\n*   **Relatability:** The idea of needing personal space in a relationship is a common and relatable experience for many people. This makes the joke resonate.\\n*   **Physical Analogy:** The joke connects the *emotional* need for space with the *physical* space between the spikes on a pineapple. This incongruity is humorous.\\n\\n**Wordplay & Humor Style:**\\n\\n*   **Pun (Wordplay):** The core humor relies on a pun. The pineapple is talking about \"space\" in a relationship, but also alluding to the literal space between the spikes on its head.\\n*   **Pun (Wordplay):** The pineapple says \"You\\'re coconuts for me\". The phrase \"coconuts\" is slang for \"crazy\" or \"mad\" for someone.\\n*   **Pun (Wordplay):** The phrase \"I need my room!\" is a play on \"I need room to breathe.\"\\n\\n**Cultural/Contextual Background:**\\n\\n*   **Familiar Fruits:** Pineapples and coconuts are relatively common and recognizable fruits, making the joke accessible to most people.\\n*   **Relationship Dynamics:** The joke touches on common relationship issues like clinginess and the need for personal space, which are understood across many cultures.\\n\\nIn essence, the joke is funny because it combines personification, relatability, and clever wordplay to create an unexpected and humorous scenario.'}),), interrupts=()),\n",
       " StateSnapshot(values={'topic': 'Pineapple'}, next=('jokeGenerator',), config={'configurable': {'thread_id': '12', 'checkpoint_ns': '', 'checkpoint_id': '1f08a1b7-5a7e-647c-8000-88b7eb1e08cb'}}, metadata={'source': 'loop', 'step': 0, 'parents': {}}, created_at='2025-09-05T05:44:59.117223+00:00', parent_config={'configurable': {'thread_id': '12', 'checkpoint_ns': '', 'checkpoint_id': '1f08a1b7-5a74-6dd6-bfff-06d06bca4c96'}}, tasks=(PregelTask(id='bf185b29-e3fe-70b0-35fb-05f4da8d8d77', name='jokeGenerator', path=('__pregel_pull', 'jokeGenerator'), error=None, interrupts=(), state=None, result={'joke': 'Why did the pineapple break up with the coconut?\\n\\nBecause he said she was too clingy, and he needed some *space* between them... ya know, like the space between the spikes on his head! He said, \"You\\'re coconuts for me, but I need my room!\"'}),), interrupts=()),\n",
       " StateSnapshot(values={}, next=('__start__',), config={'configurable': {'thread_id': '12', 'checkpoint_ns': '', 'checkpoint_id': '1f08a1b7-5a74-6dd6-bfff-06d06bca4c96'}}, metadata={'source': 'input', 'step': -1, 'parents': {}}, created_at='2025-09-05T05:44:59.113375+00:00', parent_config=None, tasks=(PregelTask(id='29f3aa38-6b1c-3664-aca4-4eeb71c86da3', name='__start__', path=('__pregel_pull', '__start__'), error=None, interrupts=(), state=None, result={'topic': 'Pineapple'}),), interrupts=())]"
      ]
     },
     "execution_count": 14,
     "metadata": {},
     "output_type": "execute_result"
    }
   ],
   "source": [
    "list(workflow.get_state_history(config12))"
   ]
  },
  {
   "cell_type": "markdown",
   "id": "b9ce2941",
   "metadata": {},
   "source": [
    "## Time Travel"
   ]
  },
  {
   "cell_type": "markdown",
   "id": "d941a141",
   "metadata": {},
   "source": [
    "Get the checkpoint_id of the thread_id = '1' & pass it in to the thread-id dict"
   ]
  },
  {
   "cell_type": "code",
   "execution_count": 15,
   "id": "f6c9013f",
   "metadata": {},
   "outputs": [
    {
     "data": {
      "text/plain": [
       "StateSnapshot(values={'topic': 'Mango'}, next=('jokeGenerator',), config={'configurable': {'thread_id': '1', 'checkpoint_id': '1f08a1b6-c851-6a62-8000-f63d5ee0383f'}}, metadata={'source': 'loop', 'step': 0, 'parents': {}}, created_at='2025-09-05T05:44:43.789745+00:00', parent_config={'configurable': {'thread_id': '1', 'checkpoint_ns': '', 'checkpoint_id': '1f08a1b6-c84a-6a41-bfff-8c9f73ff09bf'}}, tasks=(PregelTask(id='e4d2715c-9b52-ff88-c009-c4762609f26e', name='jokeGenerator', path=('__pregel_pull', 'jokeGenerator'), error=None, interrupts=(), state=None, result={'joke': \"Why did the mango break up with the coconut?\\n\\nBecause the coconut was too dry and the mango felt like they just couldn't *mang-go* on like that!\"}),), interrupts=())"
      ]
     },
     "execution_count": 15,
     "metadata": {},
     "output_type": "execute_result"
    }
   ],
   "source": [
    "workflow.get_state({'configurable':{'thread_id':'1', 'checkpoint_id':'1f08a1b6-c851-6a62-8000-f63d5ee0383f'}})"
   ]
  },
  {
   "cell_type": "code",
   "execution_count": 16,
   "id": "faba22b0",
   "metadata": {},
   "outputs": [
    {
     "data": {
      "text/plain": [
       "{'topic': 'Mango',\n",
       " 'joke': 'Why did the mango break up with the pineapple?\\n\\nBecause it said, \"I can\\'t stand your prickly personality anymore! I need someone a little less... **mango-nificent**!\"',\n",
       " 'explaination': 'Okay, here\\'s a breakdown of the mango joke:\\n\\n**Explanation:**\\n\\nThe joke is a play on words related to a romantic breakup. The humor comes from replacing a more common adjective with a word that sounds similar but is related to the topic (mango). The mango is breaking up with the pineapple because it finds the pineapple\\'s personality unpleasant (\"prickly\"). Instead of saying it needs someone \"more magnificent,\" it says \"more mango-nificent,\" which is a silly and unexpected thing to say.\\n\\n**Humor Analysis:**\\n\\n*   **Wordplay (Pun):** The core of the joke is the pun on \"magnificent\" and \"mango-nificent.\" It uses the word \"mango\" in a context where it doesn\\'t logically belong, creating a humorous effect.\\n*   **Character Stereotype:** The joke relies on a slight stereotype: pineapples are often associated with being \"prickly\" (both literally due to their skin and figuratively referring to a difficult personality). This sets up the punchline.\\n*   **Unexpectedness:** The punchline is unexpected. You anticipate a more standard reason for a breakup, but instead, you get a fruit-related pun.\\n\\n**Cultural/Contextual Background (Minimal):**\\n\\n*   The joke is fairly universal. Most people are familiar with mangoes and pineapples.\\n*   The concept of romantic breakups is also widely understood.\\n\\nIn simple terms, the joke is funny because it takes a common situation (a breakup) and adds an absurd, fruit-themed twist by using a pun.'}"
      ]
     },
     "execution_count": 16,
     "metadata": {},
     "output_type": "execute_result"
    }
   ],
   "source": [
    "workflow.invoke(None, {'configurable':{'thread_id':'1', 'checkpoint_id':'1f08a1b6-c851-6a62-8000-f63d5ee0383f'}})"
   ]
  },
  {
   "cell_type": "code",
   "execution_count": 18,
   "id": "bf633b9c",
   "metadata": {},
   "outputs": [
    {
     "data": {
      "text/plain": [
       "[StateSnapshot(values={'topic': 'Mango', 'joke': 'Why did the mango break up with the pineapple?\\n\\nBecause it said, \"I can\\'t stand your prickly personality anymore! I need someone a little less... **mango-nificent**!\"', 'explaination': 'Okay, here\\'s a breakdown of the mango joke:\\n\\n**Explanation:**\\n\\nThe joke is a play on words related to a romantic breakup. The humor comes from replacing a more common adjective with a word that sounds similar but is related to the topic (mango). The mango is breaking up with the pineapple because it finds the pineapple\\'s personality unpleasant (\"prickly\"). Instead of saying it needs someone \"more magnificent,\" it says \"more mango-nificent,\" which is a silly and unexpected thing to say.\\n\\n**Humor Analysis:**\\n\\n*   **Wordplay (Pun):** The core of the joke is the pun on \"magnificent\" and \"mango-nificent.\" It uses the word \"mango\" in a context where it doesn\\'t logically belong, creating a humorous effect.\\n*   **Character Stereotype:** The joke relies on a slight stereotype: pineapples are often associated with being \"prickly\" (both literally due to their skin and figuratively referring to a difficult personality). This sets up the punchline.\\n*   **Unexpectedness:** The punchline is unexpected. You anticipate a more standard reason for a breakup, but instead, you get a fruit-related pun.\\n\\n**Cultural/Contextual Background (Minimal):**\\n\\n*   The joke is fairly universal. Most people are familiar with mangoes and pineapples.\\n*   The concept of romantic breakups is also widely understood.\\n\\nIn simple terms, the joke is funny because it takes a common situation (a breakup) and adds an absurd, fruit-themed twist by using a pun.'}, next=(), config={'configurable': {'thread_id': '1', 'checkpoint_ns': '', 'checkpoint_id': '1f08a1ce-2719-6dbe-8002-8218de466eac'}}, metadata={'source': 'loop', 'step': 2, 'parents': {}}, created_at='2025-09-05T05:55:11.129914+00:00', parent_config={'configurable': {'thread_id': '1', 'checkpoint_ns': '', 'checkpoint_id': '1f08a1ce-0ca6-66bf-8001-46f93956bca8'}}, tasks=(), interrupts=()),\n",
       " StateSnapshot(values={'topic': 'Mango', 'joke': 'Why did the mango break up with the pineapple?\\n\\nBecause it said, \"I can\\'t stand your prickly personality anymore! I need someone a little less... **mango-nificent**!\"'}, next=('jokeExplaination',), config={'configurable': {'thread_id': '1', 'checkpoint_ns': '', 'checkpoint_id': '1f08a1ce-0ca6-66bf-8001-46f93956bca8'}}, metadata={'source': 'loop', 'step': 1, 'parents': {}}, created_at='2025-09-05T05:55:08.356321+00:00', parent_config={'configurable': {'thread_id': '1', 'checkpoint_ns': '', 'checkpoint_id': '1f08a1b6-c851-6a62-8000-f63d5ee0383f'}}, tasks=(PregelTask(id='45eb7761-1761-8639-451e-d523a095d13c', name='jokeExplaination', path=('__pregel_pull', 'jokeExplaination'), error=None, interrupts=(), state=None, result={'explaination': 'Okay, here\\'s a breakdown of the mango joke:\\n\\n**Explanation:**\\n\\nThe joke is a play on words related to a romantic breakup. The humor comes from replacing a more common adjective with a word that sounds similar but is related to the topic (mango). The mango is breaking up with the pineapple because it finds the pineapple\\'s personality unpleasant (\"prickly\"). Instead of saying it needs someone \"more magnificent,\" it says \"more mango-nificent,\" which is a silly and unexpected thing to say.\\n\\n**Humor Analysis:**\\n\\n*   **Wordplay (Pun):** The core of the joke is the pun on \"magnificent\" and \"mango-nificent.\" It uses the word \"mango\" in a context where it doesn\\'t logically belong, creating a humorous effect.\\n*   **Character Stereotype:** The joke relies on a slight stereotype: pineapples are often associated with being \"prickly\" (both literally due to their skin and figuratively referring to a difficult personality). This sets up the punchline.\\n*   **Unexpectedness:** The punchline is unexpected. You anticipate a more standard reason for a breakup, but instead, you get a fruit-related pun.\\n\\n**Cultural/Contextual Background (Minimal):**\\n\\n*   The joke is fairly universal. Most people are familiar with mangoes and pineapples.\\n*   The concept of romantic breakups is also widely understood.\\n\\nIn simple terms, the joke is funny because it takes a common situation (a breakup) and adds an absurd, fruit-themed twist by using a pun.'}),), interrupts=()),\n",
       " StateSnapshot(values={'topic': 'Mango', 'joke': \"Why did the mango break up with the coconut?\\n\\nBecause the coconut was too dry and the mango felt like they just couldn't *mang-go* on like that!\", 'explaination': 'Okay, here\\'s a breakdown of the mango joke:\\n\\n**Explanation:**\\n\\nThe joke is a play on words about why a mango and a coconut ended a relationship. The reason given is that the coconut was \"too dry\" (meaning boring or lacking in personality) and the mango felt they couldn\\'t \"mang-go\" on.\\n\\n**Why it\\'s funny:**\\n\\n*   **Wordplay (Pun):** The humor comes from the pun \"mang-go,\" which sounds like \"mango\" but is also used as a substitute for the phrase \"move on\" or \"continue\" in a relationship. This creates a funny connection between the fruit and the relationship problem.\\n\\n*   **Humor Style (Pun):** The joke heavily relies on a pun, making it a pun-based joke.\\n\\n*   **Cultural/Contextual Background:** There isn\\'t a strong cultural or contextual background necessary to understand the joke. The joke plays on the common knowledge that mangoes are juicy and flavorful, whereas coconuts are sometimes associated with a drier texture. The joke is also built on the shared understanding that \"dry\" can also describe a dull personality.'}, next=(), config={'configurable': {'thread_id': '1', 'checkpoint_ns': '', 'checkpoint_id': '1f08a1b6-f415-6622-8002-4877aaa55c19'}}, metadata={'source': 'loop', 'step': 2, 'parents': {}}, created_at='2025-09-05T05:44:48.378745+00:00', parent_config={'configurable': {'thread_id': '1', 'checkpoint_ns': '', 'checkpoint_id': '1f08a1b6-df77-6fc1-8001-5498ca3b048b'}}, tasks=(), interrupts=()),\n",
       " StateSnapshot(values={'topic': 'Mango', 'joke': \"Why did the mango break up with the coconut?\\n\\nBecause the coconut was too dry and the mango felt like they just couldn't *mang-go* on like that!\"}, next=('jokeExplaination',), config={'configurable': {'thread_id': '1', 'checkpoint_ns': '', 'checkpoint_id': '1f08a1b6-df77-6fc1-8001-5498ca3b048b'}}, metadata={'source': 'loop', 'step': 1, 'parents': {}}, created_at='2025-09-05T05:44:46.217171+00:00', parent_config={'configurable': {'thread_id': '1', 'checkpoint_ns': '', 'checkpoint_id': '1f08a1b6-c851-6a62-8000-f63d5ee0383f'}}, tasks=(PregelTask(id='6417afe4-544f-3461-3a60-35d6135c85ed', name='jokeExplaination', path=('__pregel_pull', 'jokeExplaination'), error=None, interrupts=(), state=None, result={'explaination': 'Okay, here\\'s a breakdown of the mango joke:\\n\\n**Explanation:**\\n\\nThe joke is a play on words about why a mango and a coconut ended a relationship. The reason given is that the coconut was \"too dry\" (meaning boring or lacking in personality) and the mango felt they couldn\\'t \"mang-go\" on.\\n\\n**Why it\\'s funny:**\\n\\n*   **Wordplay (Pun):** The humor comes from the pun \"mang-go,\" which sounds like \"mango\" but is also used as a substitute for the phrase \"move on\" or \"continue\" in a relationship. This creates a funny connection between the fruit and the relationship problem.\\n\\n*   **Humor Style (Pun):** The joke heavily relies on a pun, making it a pun-based joke.\\n\\n*   **Cultural/Contextual Background:** There isn\\'t a strong cultural or contextual background necessary to understand the joke. The joke plays on the common knowledge that mangoes are juicy and flavorful, whereas coconuts are sometimes associated with a drier texture. The joke is also built on the shared understanding that \"dry\" can also describe a dull personality.'}),), interrupts=()),\n",
       " StateSnapshot(values={'topic': 'Mango'}, next=('jokeGenerator',), config={'configurable': {'thread_id': '1', 'checkpoint_ns': '', 'checkpoint_id': '1f08a1b6-c851-6a62-8000-f63d5ee0383f'}}, metadata={'source': 'loop', 'step': 0, 'parents': {}}, created_at='2025-09-05T05:44:43.789745+00:00', parent_config={'configurable': {'thread_id': '1', 'checkpoint_ns': '', 'checkpoint_id': '1f08a1b6-c84a-6a41-bfff-8c9f73ff09bf'}}, tasks=(PregelTask(id='e4d2715c-9b52-ff88-c009-c4762609f26e', name='jokeGenerator', path=('__pregel_pull', 'jokeGenerator'), error=None, interrupts=(), state=None, result={'joke': \"Why did the mango break up with the coconut?\\n\\nBecause the coconut was too dry and the mango felt like they just couldn't *mang-go* on like that!\"}),), interrupts=()),\n",
       " StateSnapshot(values={}, next=('__start__',), config={'configurable': {'thread_id': '1', 'checkpoint_ns': '', 'checkpoint_id': '1f08a1b6-c84a-6a41-bfff-8c9f73ff09bf'}}, metadata={'source': 'input', 'step': -1, 'parents': {}}, created_at='2025-09-05T05:44:43.786881+00:00', parent_config=None, tasks=(PregelTask(id='1e8bbe54-5329-5ddb-3539-509b6fa1c4b7', name='__start__', path=('__pregel_pull', '__start__'), error=None, interrupts=(), state=None, result={'topic': 'Mango'}),), interrupts=())]"
      ]
     },
     "execution_count": 18,
     "metadata": {},
     "output_type": "execute_result"
    }
   ],
   "source": [
    "list(workflow.get_state_history(config1))"
   ]
  },
  {
   "cell_type": "markdown",
   "id": "bac14ccd",
   "metadata": {},
   "source": [
    "## Update State\n",
    "\n"
   ]
  },
  {
   "cell_type": "code",
   "execution_count": 20,
   "id": "04478232",
   "metadata": {},
   "outputs": [
    {
     "data": {
      "text/plain": [
       "{'configurable': {'thread_id': '1',\n",
       "  'checkpoint_ns': '',\n",
       "  'checkpoint_id': '1f08a1e1-3229-6557-8000-0572c5f8de2a'}}"
      ]
     },
     "execution_count": 20,
     "metadata": {},
     "output_type": "execute_result"
    }
   ],
   "source": [
    "workflow.update_state({'configurable':{'thread_id':'1', 'checkpoint_id':'1f08a1b6-c84a-6a41-bfff-8c9f73ff09b'}}, {'topic':'samosa'})"
   ]
  },
  {
   "cell_type": "code",
   "execution_count": 21,
   "id": "3fc4df52",
   "metadata": {},
   "outputs": [
    {
     "data": {
      "text/plain": [
       "[StateSnapshot(values={'topic': 'samosa'}, next=('jokeGenerator',), config={'configurable': {'thread_id': '1', 'checkpoint_ns': '', 'checkpoint_id': '1f08a1e1-3229-6557-8000-0572c5f8de2a'}}, metadata={'source': 'update', 'step': 0, 'parents': {}}, created_at='2025-09-05T06:03:42.317052+00:00', parent_config={'configurable': {'thread_id': '1', 'checkpoint_ns': '', 'checkpoint_id': '1f08a1b6-c84a-6a41-bfff-8c9f73ff09b'}}, tasks=(PregelTask(id='1c5a5bc9-2505-160f-f960-7fdf42c16e8b', name='jokeGenerator', path=('__pregel_pull', 'jokeGenerator'), error=None, interrupts=(), state=None, result=None),), interrupts=()),\n",
       " StateSnapshot(values={'topic': 'Mango', 'joke': 'Why did the mango break up with the pineapple?\\n\\nBecause it said, \"I can\\'t stand your prickly personality anymore! I need someone a little less... **mango-nificent**!\"', 'explaination': 'Okay, here\\'s a breakdown of the mango joke:\\n\\n**Explanation:**\\n\\nThe joke is a play on words related to a romantic breakup. The humor comes from replacing a more common adjective with a word that sounds similar but is related to the topic (mango). The mango is breaking up with the pineapple because it finds the pineapple\\'s personality unpleasant (\"prickly\"). Instead of saying it needs someone \"more magnificent,\" it says \"more mango-nificent,\" which is a silly and unexpected thing to say.\\n\\n**Humor Analysis:**\\n\\n*   **Wordplay (Pun):** The core of the joke is the pun on \"magnificent\" and \"mango-nificent.\" It uses the word \"mango\" in a context where it doesn\\'t logically belong, creating a humorous effect.\\n*   **Character Stereotype:** The joke relies on a slight stereotype: pineapples are often associated with being \"prickly\" (both literally due to their skin and figuratively referring to a difficult personality). This sets up the punchline.\\n*   **Unexpectedness:** The punchline is unexpected. You anticipate a more standard reason for a breakup, but instead, you get a fruit-related pun.\\n\\n**Cultural/Contextual Background (Minimal):**\\n\\n*   The joke is fairly universal. Most people are familiar with mangoes and pineapples.\\n*   The concept of romantic breakups is also widely understood.\\n\\nIn simple terms, the joke is funny because it takes a common situation (a breakup) and adds an absurd, fruit-themed twist by using a pun.'}, next=(), config={'configurable': {'thread_id': '1', 'checkpoint_ns': '', 'checkpoint_id': '1f08a1ce-2719-6dbe-8002-8218de466eac'}}, metadata={'source': 'loop', 'step': 2, 'parents': {}}, created_at='2025-09-05T05:55:11.129914+00:00', parent_config={'configurable': {'thread_id': '1', 'checkpoint_ns': '', 'checkpoint_id': '1f08a1ce-0ca6-66bf-8001-46f93956bca8'}}, tasks=(), interrupts=()),\n",
       " StateSnapshot(values={'topic': 'Mango', 'joke': 'Why did the mango break up with the pineapple?\\n\\nBecause it said, \"I can\\'t stand your prickly personality anymore! I need someone a little less... **mango-nificent**!\"'}, next=('jokeExplaination',), config={'configurable': {'thread_id': '1', 'checkpoint_ns': '', 'checkpoint_id': '1f08a1ce-0ca6-66bf-8001-46f93956bca8'}}, metadata={'source': 'loop', 'step': 1, 'parents': {}}, created_at='2025-09-05T05:55:08.356321+00:00', parent_config={'configurable': {'thread_id': '1', 'checkpoint_ns': '', 'checkpoint_id': '1f08a1b6-c851-6a62-8000-f63d5ee0383f'}}, tasks=(PregelTask(id='45eb7761-1761-8639-451e-d523a095d13c', name='jokeExplaination', path=('__pregel_pull', 'jokeExplaination'), error=None, interrupts=(), state=None, result={'explaination': 'Okay, here\\'s a breakdown of the mango joke:\\n\\n**Explanation:**\\n\\nThe joke is a play on words related to a romantic breakup. The humor comes from replacing a more common adjective with a word that sounds similar but is related to the topic (mango). The mango is breaking up with the pineapple because it finds the pineapple\\'s personality unpleasant (\"prickly\"). Instead of saying it needs someone \"more magnificent,\" it says \"more mango-nificent,\" which is a silly and unexpected thing to say.\\n\\n**Humor Analysis:**\\n\\n*   **Wordplay (Pun):** The core of the joke is the pun on \"magnificent\" and \"mango-nificent.\" It uses the word \"mango\" in a context where it doesn\\'t logically belong, creating a humorous effect.\\n*   **Character Stereotype:** The joke relies on a slight stereotype: pineapples are often associated with being \"prickly\" (both literally due to their skin and figuratively referring to a difficult personality). This sets up the punchline.\\n*   **Unexpectedness:** The punchline is unexpected. You anticipate a more standard reason for a breakup, but instead, you get a fruit-related pun.\\n\\n**Cultural/Contextual Background (Minimal):**\\n\\n*   The joke is fairly universal. Most people are familiar with mangoes and pineapples.\\n*   The concept of romantic breakups is also widely understood.\\n\\nIn simple terms, the joke is funny because it takes a common situation (a breakup) and adds an absurd, fruit-themed twist by using a pun.'}),), interrupts=()),\n",
       " StateSnapshot(values={'topic': 'Mango', 'joke': \"Why did the mango break up with the coconut?\\n\\nBecause the coconut was too dry and the mango felt like they just couldn't *mang-go* on like that!\", 'explaination': 'Okay, here\\'s a breakdown of the mango joke:\\n\\n**Explanation:**\\n\\nThe joke is a play on words about why a mango and a coconut ended a relationship. The reason given is that the coconut was \"too dry\" (meaning boring or lacking in personality) and the mango felt they couldn\\'t \"mang-go\" on.\\n\\n**Why it\\'s funny:**\\n\\n*   **Wordplay (Pun):** The humor comes from the pun \"mang-go,\" which sounds like \"mango\" but is also used as a substitute for the phrase \"move on\" or \"continue\" in a relationship. This creates a funny connection between the fruit and the relationship problem.\\n\\n*   **Humor Style (Pun):** The joke heavily relies on a pun, making it a pun-based joke.\\n\\n*   **Cultural/Contextual Background:** There isn\\'t a strong cultural or contextual background necessary to understand the joke. The joke plays on the common knowledge that mangoes are juicy and flavorful, whereas coconuts are sometimes associated with a drier texture. The joke is also built on the shared understanding that \"dry\" can also describe a dull personality.'}, next=(), config={'configurable': {'thread_id': '1', 'checkpoint_ns': '', 'checkpoint_id': '1f08a1b6-f415-6622-8002-4877aaa55c19'}}, metadata={'source': 'loop', 'step': 2, 'parents': {}}, created_at='2025-09-05T05:44:48.378745+00:00', parent_config={'configurable': {'thread_id': '1', 'checkpoint_ns': '', 'checkpoint_id': '1f08a1b6-df77-6fc1-8001-5498ca3b048b'}}, tasks=(), interrupts=()),\n",
       " StateSnapshot(values={'topic': 'Mango', 'joke': \"Why did the mango break up with the coconut?\\n\\nBecause the coconut was too dry and the mango felt like they just couldn't *mang-go* on like that!\"}, next=('jokeExplaination',), config={'configurable': {'thread_id': '1', 'checkpoint_ns': '', 'checkpoint_id': '1f08a1b6-df77-6fc1-8001-5498ca3b048b'}}, metadata={'source': 'loop', 'step': 1, 'parents': {}}, created_at='2025-09-05T05:44:46.217171+00:00', parent_config={'configurable': {'thread_id': '1', 'checkpoint_ns': '', 'checkpoint_id': '1f08a1b6-c851-6a62-8000-f63d5ee0383f'}}, tasks=(PregelTask(id='6417afe4-544f-3461-3a60-35d6135c85ed', name='jokeExplaination', path=('__pregel_pull', 'jokeExplaination'), error=None, interrupts=(), state=None, result={'explaination': 'Okay, here\\'s a breakdown of the mango joke:\\n\\n**Explanation:**\\n\\nThe joke is a play on words about why a mango and a coconut ended a relationship. The reason given is that the coconut was \"too dry\" (meaning boring or lacking in personality) and the mango felt they couldn\\'t \"mang-go\" on.\\n\\n**Why it\\'s funny:**\\n\\n*   **Wordplay (Pun):** The humor comes from the pun \"mang-go,\" which sounds like \"mango\" but is also used as a substitute for the phrase \"move on\" or \"continue\" in a relationship. This creates a funny connection between the fruit and the relationship problem.\\n\\n*   **Humor Style (Pun):** The joke heavily relies on a pun, making it a pun-based joke.\\n\\n*   **Cultural/Contextual Background:** There isn\\'t a strong cultural or contextual background necessary to understand the joke. The joke plays on the common knowledge that mangoes are juicy and flavorful, whereas coconuts are sometimes associated with a drier texture. The joke is also built on the shared understanding that \"dry\" can also describe a dull personality.'}),), interrupts=()),\n",
       " StateSnapshot(values={'topic': 'Mango'}, next=('jokeGenerator',), config={'configurable': {'thread_id': '1', 'checkpoint_ns': '', 'checkpoint_id': '1f08a1b6-c851-6a62-8000-f63d5ee0383f'}}, metadata={'source': 'loop', 'step': 0, 'parents': {}}, created_at='2025-09-05T05:44:43.789745+00:00', parent_config={'configurable': {'thread_id': '1', 'checkpoint_ns': '', 'checkpoint_id': '1f08a1b6-c84a-6a41-bfff-8c9f73ff09bf'}}, tasks=(PregelTask(id='e4d2715c-9b52-ff88-c009-c4762609f26e', name='jokeGenerator', path=('__pregel_pull', 'jokeGenerator'), error=None, interrupts=(), state=None, result={'joke': \"Why did the mango break up with the coconut?\\n\\nBecause the coconut was too dry and the mango felt like they just couldn't *mang-go* on like that!\"}),), interrupts=()),\n",
       " StateSnapshot(values={}, next=('__start__',), config={'configurable': {'thread_id': '1', 'checkpoint_ns': '', 'checkpoint_id': '1f08a1b6-c84a-6a41-bfff-8c9f73ff09bf'}}, metadata={'source': 'input', 'step': -1, 'parents': {}}, created_at='2025-09-05T05:44:43.786881+00:00', parent_config=None, tasks=(PregelTask(id='1e8bbe54-5329-5ddb-3539-509b6fa1c4b7', name='__start__', path=('__pregel_pull', '__start__'), error=None, interrupts=(), state=None, result={'topic': 'Mango'}),), interrupts=())]"
      ]
     },
     "execution_count": 21,
     "metadata": {},
     "output_type": "execute_result"
    }
   ],
   "source": [
    "list(workflow.get_state_history(config1))"
   ]
  },
  {
   "cell_type": "markdown",
   "id": "5348da9b",
   "metadata": {},
   "source": [
    "### 1. Update state invoke"
   ]
  },
  {
   "cell_type": "markdown",
   "id": "07410c58",
   "metadata": {},
   "source": [
    "##### 1.1 generate the new joke from the updated topic , need new topic checkpoint_id"
   ]
  },
  {
   "cell_type": "code",
   "execution_count": 23,
   "id": "84cbe9c0",
   "metadata": {},
   "outputs": [
    {
     "data": {
      "text/plain": [
       "{'topic': 'samosa',\n",
       " 'joke': 'Why did the samosa break up with the chutney?\\n\\nBecause it said, \"I need some space! You\\'re always all over me, and frankly, I\\'m starting to feel a little… filled!\"',\n",
       " 'explaination': 'Here\\'s a breakdown of the samosa joke:\\n\\n**Explanation:**\\n\\nThe joke is funny because it personifies a samosa and chutney (a common dipping sauce for samosas) as being in a relationship. The humor comes from applying relationship problems to food. The samosa wants to break up because the chutney is always \"all over\" it, meaning it\\'s constantly being dipped into the chutney. The samosa then says it\\'s feeling \"filled,\" which is a double meaning:\\n\\n*   **Literal meaning:** Samosas are filled with potatoes, peas, and spices. The samosa is already full of these ingredients.\\n*   **Figurative meaning:** The samosa is \"filled\" with the chutney, meaning it\\'s overwhelmed and doesn\\'t want any more.\\n\\n**Wordplay:**\\n\\n*   **\"Filled\":** This is the key pun in the joke. It uses the word \"filled\" in two different senses: physically full of food and emotionally overwhelmed.\\n*   **\"All over me\":** This is a common phrase used to describe someone who is very clingy or affectionate in a relationship. It\\'s funny to apply it to the act of dipping a samosa in chutney.\\n\\n**Humor Style:**\\n\\n*   **Pun:** The joke heavily relies on puns, specifically the double meaning of \"filled.\"\\n*   **Personification:** Giving human qualities (like having relationship problems) to inanimate objects (a samosa and chutney) is a form of humor.\\n*   **Situational Humor:** The humor arises from the absurd situation of imagining food having romantic relationships and breakups.\\n\\n**Cultural/Contextual Background:**\\n\\n*   **Samosa and Chutney:** Understanding that samosas are a popular snack, often eaten with chutney, is important for appreciating the joke. Samosas are common in South Asian cuisine (India, Pakistan, Bangladesh, etc.) and are becoming increasingly popular worldwide. Chutney is a variety of sauces, often fruity or spicy, that are used as condiments.\\n*   **Relationship Tropes:** The joke plays on common relationship tropes, like needing space and feeling overwhelmed by a partner. Even someone unfamiliar with samosas can understand the relationship dynamic being parodied.\\n\\nIn essence, the joke is funny because it takes a familiar snack pairing and applies human relationship problems to it, using clever wordplay to create an unexpected and amusing scenario.'}"
      ]
     },
     "execution_count": 23,
     "metadata": {},
     "output_type": "execute_result"
    }
   ],
   "source": [
    "workflow.invoke(None, {'configurable':{'thread_id':'1', 'checkpoint_id':'1f08a1e1-3229-6557-8000-0572c5f8de2a'}})"
   ]
  },
  {
   "cell_type": "markdown",
   "id": "bdb1aa8e",
   "metadata": {},
   "source": [
    "we have total = 9 Histroy\n",
    "\n",
    "1. last 4 invoke is inital invoke\n",
    "2. next 2 is time travel for excuting with the checkpoint_id\n",
    "3. next 1 is update the state\n",
    "4. nd the first 2 which is the invoke with the update state"
   ]
  },
  {
   "cell_type": "code",
   "execution_count": 25,
   "id": "329f3aef",
   "metadata": {},
   "outputs": [
    {
     "data": {
      "text/plain": [
       "[StateSnapshot(values={'topic': 'samosa', 'joke': 'Why did the samosa break up with the chutney?\\n\\nBecause it said, \"I need some space! You\\'re always all over me, and frankly, I\\'m starting to feel a little… filled!\"', 'explaination': 'Here\\'s a breakdown of the samosa joke:\\n\\n**Explanation:**\\n\\nThe joke is funny because it personifies a samosa and chutney (a common dipping sauce for samosas) as being in a relationship. The humor comes from applying relationship problems to food. The samosa wants to break up because the chutney is always \"all over\" it, meaning it\\'s constantly being dipped into the chutney. The samosa then says it\\'s feeling \"filled,\" which is a double meaning:\\n\\n*   **Literal meaning:** Samosas are filled with potatoes, peas, and spices. The samosa is already full of these ingredients.\\n*   **Figurative meaning:** The samosa is \"filled\" with the chutney, meaning it\\'s overwhelmed and doesn\\'t want any more.\\n\\n**Wordplay:**\\n\\n*   **\"Filled\":** This is the key pun in the joke. It uses the word \"filled\" in two different senses: physically full of food and emotionally overwhelmed.\\n*   **\"All over me\":** This is a common phrase used to describe someone who is very clingy or affectionate in a relationship. It\\'s funny to apply it to the act of dipping a samosa in chutney.\\n\\n**Humor Style:**\\n\\n*   **Pun:** The joke heavily relies on puns, specifically the double meaning of \"filled.\"\\n*   **Personification:** Giving human qualities (like having relationship problems) to inanimate objects (a samosa and chutney) is a form of humor.\\n*   **Situational Humor:** The humor arises from the absurd situation of imagining food having romantic relationships and breakups.\\n\\n**Cultural/Contextual Background:**\\n\\n*   **Samosa and Chutney:** Understanding that samosas are a popular snack, often eaten with chutney, is important for appreciating the joke. Samosas are common in South Asian cuisine (India, Pakistan, Bangladesh, etc.) and are becoming increasingly popular worldwide. Chutney is a variety of sauces, often fruity or spicy, that are used as condiments.\\n*   **Relationship Tropes:** The joke plays on common relationship tropes, like needing space and feeling overwhelmed by a partner. Even someone unfamiliar with samosas can understand the relationship dynamic being parodied.\\n\\nIn essence, the joke is funny because it takes a familiar snack pairing and applies human relationship problems to it, using clever wordplay to create an unexpected and amusing scenario.'}, next=(), config={'configurable': {'thread_id': '1', 'checkpoint_ns': '', 'checkpoint_id': '1f08a1ec-d018-6071-8002-a32cb5a49975'}}, metadata={'source': 'loop', 'step': 2, 'parents': {}}, created_at='2025-09-05T06:08:54.156465+00:00', parent_config={'configurable': {'thread_id': '1', 'checkpoint_ns': '', 'checkpoint_id': '1f08a1ec-a760-625e-8001-55e11c1607a2'}}, tasks=(), interrupts=()),\n",
       " StateSnapshot(values={'topic': 'samosa', 'joke': 'Why did the samosa break up with the chutney?\\n\\nBecause it said, \"I need some space! You\\'re always all over me, and frankly, I\\'m starting to feel a little… filled!\"'}, next=('jokeExplaination',), config={'configurable': {'thread_id': '1', 'checkpoint_ns': '', 'checkpoint_id': '1f08a1ec-a760-625e-8001-55e11c1607a2'}}, metadata={'source': 'loop', 'step': 1, 'parents': {}}, created_at='2025-09-05T06:08:49.886826+00:00', parent_config={'configurable': {'thread_id': '1', 'checkpoint_ns': '', 'checkpoint_id': '1f08a1e1-3229-6557-8000-0572c5f8de2a'}}, tasks=(PregelTask(id='7342411d-eca6-1fdb-ebb7-8432678a7fc5', name='jokeExplaination', path=('__pregel_pull', 'jokeExplaination'), error=None, interrupts=(), state=None, result={'explaination': 'Here\\'s a breakdown of the samosa joke:\\n\\n**Explanation:**\\n\\nThe joke is funny because it personifies a samosa and chutney (a common dipping sauce for samosas) as being in a relationship. The humor comes from applying relationship problems to food. The samosa wants to break up because the chutney is always \"all over\" it, meaning it\\'s constantly being dipped into the chutney. The samosa then says it\\'s feeling \"filled,\" which is a double meaning:\\n\\n*   **Literal meaning:** Samosas are filled with potatoes, peas, and spices. The samosa is already full of these ingredients.\\n*   **Figurative meaning:** The samosa is \"filled\" with the chutney, meaning it\\'s overwhelmed and doesn\\'t want any more.\\n\\n**Wordplay:**\\n\\n*   **\"Filled\":** This is the key pun in the joke. It uses the word \"filled\" in two different senses: physically full of food and emotionally overwhelmed.\\n*   **\"All over me\":** This is a common phrase used to describe someone who is very clingy or affectionate in a relationship. It\\'s funny to apply it to the act of dipping a samosa in chutney.\\n\\n**Humor Style:**\\n\\n*   **Pun:** The joke heavily relies on puns, specifically the double meaning of \"filled.\"\\n*   **Personification:** Giving human qualities (like having relationship problems) to inanimate objects (a samosa and chutney) is a form of humor.\\n*   **Situational Humor:** The humor arises from the absurd situation of imagining food having romantic relationships and breakups.\\n\\n**Cultural/Contextual Background:**\\n\\n*   **Samosa and Chutney:** Understanding that samosas are a popular snack, often eaten with chutney, is important for appreciating the joke. Samosas are common in South Asian cuisine (India, Pakistan, Bangladesh, etc.) and are becoming increasingly popular worldwide. Chutney is a variety of sauces, often fruity or spicy, that are used as condiments.\\n*   **Relationship Tropes:** The joke plays on common relationship tropes, like needing space and feeling overwhelmed by a partner. Even someone unfamiliar with samosas can understand the relationship dynamic being parodied.\\n\\nIn essence, the joke is funny because it takes a familiar snack pairing and applies human relationship problems to it, using clever wordplay to create an unexpected and amusing scenario.'}),), interrupts=()),\n",
       " StateSnapshot(values={'topic': 'samosa'}, next=('jokeGenerator',), config={'configurable': {'thread_id': '1', 'checkpoint_ns': '', 'checkpoint_id': '1f08a1e1-3229-6557-8000-0572c5f8de2a'}}, metadata={'source': 'update', 'step': 0, 'parents': {}}, created_at='2025-09-05T06:03:42.317052+00:00', parent_config={'configurable': {'thread_id': '1', 'checkpoint_ns': '', 'checkpoint_id': '1f08a1b6-c84a-6a41-bfff-8c9f73ff09b'}}, tasks=(PregelTask(id='1c5a5bc9-2505-160f-f960-7fdf42c16e8b', name='jokeGenerator', path=('__pregel_pull', 'jokeGenerator'), error=None, interrupts=(), state=None, result={'joke': 'Why did the samosa break up with the chutney?\\n\\nBecause it said, \"I need some space! You\\'re always all over me, and frankly, I\\'m starting to feel a little… filled!\"'}),), interrupts=()),\n",
       " StateSnapshot(values={'topic': 'Mango', 'joke': 'Why did the mango break up with the pineapple?\\n\\nBecause it said, \"I can\\'t stand your prickly personality anymore! I need someone a little less... **mango-nificent**!\"', 'explaination': 'Okay, here\\'s a breakdown of the mango joke:\\n\\n**Explanation:**\\n\\nThe joke is a play on words related to a romantic breakup. The humor comes from replacing a more common adjective with a word that sounds similar but is related to the topic (mango). The mango is breaking up with the pineapple because it finds the pineapple\\'s personality unpleasant (\"prickly\"). Instead of saying it needs someone \"more magnificent,\" it says \"more mango-nificent,\" which is a silly and unexpected thing to say.\\n\\n**Humor Analysis:**\\n\\n*   **Wordplay (Pun):** The core of the joke is the pun on \"magnificent\" and \"mango-nificent.\" It uses the word \"mango\" in a context where it doesn\\'t logically belong, creating a humorous effect.\\n*   **Character Stereotype:** The joke relies on a slight stereotype: pineapples are often associated with being \"prickly\" (both literally due to their skin and figuratively referring to a difficult personality). This sets up the punchline.\\n*   **Unexpectedness:** The punchline is unexpected. You anticipate a more standard reason for a breakup, but instead, you get a fruit-related pun.\\n\\n**Cultural/Contextual Background (Minimal):**\\n\\n*   The joke is fairly universal. Most people are familiar with mangoes and pineapples.\\n*   The concept of romantic breakups is also widely understood.\\n\\nIn simple terms, the joke is funny because it takes a common situation (a breakup) and adds an absurd, fruit-themed twist by using a pun.'}, next=(), config={'configurable': {'thread_id': '1', 'checkpoint_ns': '', 'checkpoint_id': '1f08a1ce-2719-6dbe-8002-8218de466eac'}}, metadata={'source': 'loop', 'step': 2, 'parents': {}}, created_at='2025-09-05T05:55:11.129914+00:00', parent_config={'configurable': {'thread_id': '1', 'checkpoint_ns': '', 'checkpoint_id': '1f08a1ce-0ca6-66bf-8001-46f93956bca8'}}, tasks=(), interrupts=()),\n",
       " StateSnapshot(values={'topic': 'Mango', 'joke': 'Why did the mango break up with the pineapple?\\n\\nBecause it said, \"I can\\'t stand your prickly personality anymore! I need someone a little less... **mango-nificent**!\"'}, next=('jokeExplaination',), config={'configurable': {'thread_id': '1', 'checkpoint_ns': '', 'checkpoint_id': '1f08a1ce-0ca6-66bf-8001-46f93956bca8'}}, metadata={'source': 'loop', 'step': 1, 'parents': {}}, created_at='2025-09-05T05:55:08.356321+00:00', parent_config={'configurable': {'thread_id': '1', 'checkpoint_ns': '', 'checkpoint_id': '1f08a1b6-c851-6a62-8000-f63d5ee0383f'}}, tasks=(PregelTask(id='45eb7761-1761-8639-451e-d523a095d13c', name='jokeExplaination', path=('__pregel_pull', 'jokeExplaination'), error=None, interrupts=(), state=None, result={'explaination': 'Okay, here\\'s a breakdown of the mango joke:\\n\\n**Explanation:**\\n\\nThe joke is a play on words related to a romantic breakup. The humor comes from replacing a more common adjective with a word that sounds similar but is related to the topic (mango). The mango is breaking up with the pineapple because it finds the pineapple\\'s personality unpleasant (\"prickly\"). Instead of saying it needs someone \"more magnificent,\" it says \"more mango-nificent,\" which is a silly and unexpected thing to say.\\n\\n**Humor Analysis:**\\n\\n*   **Wordplay (Pun):** The core of the joke is the pun on \"magnificent\" and \"mango-nificent.\" It uses the word \"mango\" in a context where it doesn\\'t logically belong, creating a humorous effect.\\n*   **Character Stereotype:** The joke relies on a slight stereotype: pineapples are often associated with being \"prickly\" (both literally due to their skin and figuratively referring to a difficult personality). This sets up the punchline.\\n*   **Unexpectedness:** The punchline is unexpected. You anticipate a more standard reason for a breakup, but instead, you get a fruit-related pun.\\n\\n**Cultural/Contextual Background (Minimal):**\\n\\n*   The joke is fairly universal. Most people are familiar with mangoes and pineapples.\\n*   The concept of romantic breakups is also widely understood.\\n\\nIn simple terms, the joke is funny because it takes a common situation (a breakup) and adds an absurd, fruit-themed twist by using a pun.'}),), interrupts=()),\n",
       " StateSnapshot(values={'topic': 'Mango', 'joke': \"Why did the mango break up with the coconut?\\n\\nBecause the coconut was too dry and the mango felt like they just couldn't *mang-go* on like that!\", 'explaination': 'Okay, here\\'s a breakdown of the mango joke:\\n\\n**Explanation:**\\n\\nThe joke is a play on words about why a mango and a coconut ended a relationship. The reason given is that the coconut was \"too dry\" (meaning boring or lacking in personality) and the mango felt they couldn\\'t \"mang-go\" on.\\n\\n**Why it\\'s funny:**\\n\\n*   **Wordplay (Pun):** The humor comes from the pun \"mang-go,\" which sounds like \"mango\" but is also used as a substitute for the phrase \"move on\" or \"continue\" in a relationship. This creates a funny connection between the fruit and the relationship problem.\\n\\n*   **Humor Style (Pun):** The joke heavily relies on a pun, making it a pun-based joke.\\n\\n*   **Cultural/Contextual Background:** There isn\\'t a strong cultural or contextual background necessary to understand the joke. The joke plays on the common knowledge that mangoes are juicy and flavorful, whereas coconuts are sometimes associated with a drier texture. The joke is also built on the shared understanding that \"dry\" can also describe a dull personality.'}, next=(), config={'configurable': {'thread_id': '1', 'checkpoint_ns': '', 'checkpoint_id': '1f08a1b6-f415-6622-8002-4877aaa55c19'}}, metadata={'source': 'loop', 'step': 2, 'parents': {}}, created_at='2025-09-05T05:44:48.378745+00:00', parent_config={'configurable': {'thread_id': '1', 'checkpoint_ns': '', 'checkpoint_id': '1f08a1b6-df77-6fc1-8001-5498ca3b048b'}}, tasks=(), interrupts=()),\n",
       " StateSnapshot(values={'topic': 'Mango', 'joke': \"Why did the mango break up with the coconut?\\n\\nBecause the coconut was too dry and the mango felt like they just couldn't *mang-go* on like that!\"}, next=('jokeExplaination',), config={'configurable': {'thread_id': '1', 'checkpoint_ns': '', 'checkpoint_id': '1f08a1b6-df77-6fc1-8001-5498ca3b048b'}}, metadata={'source': 'loop', 'step': 1, 'parents': {}}, created_at='2025-09-05T05:44:46.217171+00:00', parent_config={'configurable': {'thread_id': '1', 'checkpoint_ns': '', 'checkpoint_id': '1f08a1b6-c851-6a62-8000-f63d5ee0383f'}}, tasks=(PregelTask(id='6417afe4-544f-3461-3a60-35d6135c85ed', name='jokeExplaination', path=('__pregel_pull', 'jokeExplaination'), error=None, interrupts=(), state=None, result={'explaination': 'Okay, here\\'s a breakdown of the mango joke:\\n\\n**Explanation:**\\n\\nThe joke is a play on words about why a mango and a coconut ended a relationship. The reason given is that the coconut was \"too dry\" (meaning boring or lacking in personality) and the mango felt they couldn\\'t \"mang-go\" on.\\n\\n**Why it\\'s funny:**\\n\\n*   **Wordplay (Pun):** The humor comes from the pun \"mang-go,\" which sounds like \"mango\" but is also used as a substitute for the phrase \"move on\" or \"continue\" in a relationship. This creates a funny connection between the fruit and the relationship problem.\\n\\n*   **Humor Style (Pun):** The joke heavily relies on a pun, making it a pun-based joke.\\n\\n*   **Cultural/Contextual Background:** There isn\\'t a strong cultural or contextual background necessary to understand the joke. The joke plays on the common knowledge that mangoes are juicy and flavorful, whereas coconuts are sometimes associated with a drier texture. The joke is also built on the shared understanding that \"dry\" can also describe a dull personality.'}),), interrupts=()),\n",
       " StateSnapshot(values={'topic': 'Mango'}, next=('jokeGenerator',), config={'configurable': {'thread_id': '1', 'checkpoint_ns': '', 'checkpoint_id': '1f08a1b6-c851-6a62-8000-f63d5ee0383f'}}, metadata={'source': 'loop', 'step': 0, 'parents': {}}, created_at='2025-09-05T05:44:43.789745+00:00', parent_config={'configurable': {'thread_id': '1', 'checkpoint_ns': '', 'checkpoint_id': '1f08a1b6-c84a-6a41-bfff-8c9f73ff09bf'}}, tasks=(PregelTask(id='e4d2715c-9b52-ff88-c009-c4762609f26e', name='jokeGenerator', path=('__pregel_pull', 'jokeGenerator'), error=None, interrupts=(), state=None, result={'joke': \"Why did the mango break up with the coconut?\\n\\nBecause the coconut was too dry and the mango felt like they just couldn't *mang-go* on like that!\"}),), interrupts=()),\n",
       " StateSnapshot(values={}, next=('__start__',), config={'configurable': {'thread_id': '1', 'checkpoint_ns': '', 'checkpoint_id': '1f08a1b6-c84a-6a41-bfff-8c9f73ff09bf'}}, metadata={'source': 'input', 'step': -1, 'parents': {}}, created_at='2025-09-05T05:44:43.786881+00:00', parent_config=None, tasks=(PregelTask(id='1e8bbe54-5329-5ddb-3539-509b6fa1c4b7', name='__start__', path=('__pregel_pull', '__start__'), error=None, interrupts=(), state=None, result={'topic': 'Mango'}),), interrupts=())]"
      ]
     },
     "execution_count": 25,
     "metadata": {},
     "output_type": "execute_result"
    }
   ],
   "source": [
    "list(workflow.get_state_history(config1))"
   ]
  }
 ],
 "metadata": {
  "kernelspec": {
   "display_name": "myenv",
   "language": "python",
   "name": "python3"
  },
  "language_info": {
   "codemirror_mode": {
    "name": "ipython",
    "version": 3
   },
   "file_extension": ".py",
   "mimetype": "text/x-python",
   "name": "python",
   "nbconvert_exporter": "python",
   "pygments_lexer": "ipython3",
   "version": "3.13.5"
  }
 },
 "nbformat": 4,
 "nbformat_minor": 5
}
