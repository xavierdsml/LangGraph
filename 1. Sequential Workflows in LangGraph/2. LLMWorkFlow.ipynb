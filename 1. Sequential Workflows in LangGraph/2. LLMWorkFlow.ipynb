{
 "cells": [
  {
   "cell_type": "markdown",
   "id": "76339d4e",
   "metadata": {},
   "source": [
    "import Lib"
   ]
  },
  {
   "cell_type": "code",
   "execution_count": 25,
   "id": "5d8ad10a",
   "metadata": {},
   "outputs": [
    {
     "data": {
      "text/plain": [
       "True"
      ]
     },
     "execution_count": 25,
     "metadata": {},
     "output_type": "execute_result"
    }
   ],
   "source": [
    "from langgraph.graph import StateGraph, START, END\n",
    "from langchain_google_genai import ChatGoogleGenerativeAI\n",
    "from typing import TypedDict\n",
    "from dotenv import load_dotenv\n",
    "load_dotenv()"
   ]
  },
  {
   "cell_type": "code",
   "execution_count": 26,
   "id": "5935b627",
   "metadata": {},
   "outputs": [],
   "source": [
    "model = ChatGoogleGenerativeAI(\n",
    "    model=\"gemini-1.5-flash\",\n",
    "    temperature=0.7\n",
    ")"
   ]
  },
  {
   "cell_type": "markdown",
   "id": "ed100f47",
   "metadata": {},
   "source": [
    "#### 1. State"
   ]
  },
  {
   "cell_type": "code",
   "execution_count": 27,
   "id": "9aed0fdd",
   "metadata": {},
   "outputs": [],
   "source": [
    "class LLMState(TypedDict):\n",
    "  question:str\n",
    "  answer:str"
   ]
  },
  {
   "cell_type": "markdown",
   "id": "c5fefb32",
   "metadata": {},
   "source": [
    "#### 2. Graph"
   ]
  },
  {
   "cell_type": "code",
   "execution_count": 28,
   "id": "64f2bb32",
   "metadata": {},
   "outputs": [],
   "source": [
    "def QALLM(state:LLMState)->LLMState:\n",
    "  \n",
    "  # 1. extract the question from the STATE\n",
    "  question = state['question']\n",
    "  \n",
    "  # 2. form a PROMPT\n",
    "  promptQ = f\"Answer the following question {question}\"\n",
    "\n",
    "  # 3. ask the question to the LLM\n",
    "  answer = model.invoke(promptQ).content\n",
    "  \n",
    "  # 4. update the answer in the STATE\n",
    "  state['answer'] = answer\n",
    "\n",
    "  return state"
   ]
  },
  {
   "cell_type": "markdown",
   "id": "8658f0d8",
   "metadata": {},
   "source": [
    "##### 2.1 Create the GRAPH"
   ]
  },
  {
   "cell_type": "code",
   "execution_count": null,
   "id": "1775bc6b",
   "metadata": {},
   "outputs": [
    {
     "name": "stdout",
     "output_type": "stream",
     "text": [
      "{'question': 'How far is moon from the Earth ?', 'answer': \"The distance between the Earth and the Moon is not constant because the Moon's orbit is elliptical.  However, the average distance is about **238,855 miles (384,400 kilometers)**.\"}\n"
     ]
    }
   ],
   "source": [
    "# 1. create the Graph\n",
    "graph = StateGraph(LLMState)\n",
    "\n",
    "# 2. adding NODE to the Graph\n",
    "graph.add_node('LLMChat', QALLM)\n",
    "\n",
    "# 3. addong the EDGE's to the Graph\n",
    "graph.add_edge(START, 'LLMChat')\n",
    "graph.add_edge('LLMChat',END)\n",
    "\n",
    "# 4. Compile the Graph\n",
    "workflow = graph.compile()\n",
    "\n",
    "# 5 Execute the wrokflow\n",
    "final_call = workflow.invoke({'question':'How far is moon from the Earth ?'})"
   ]
  },
  {
   "cell_type": "code",
   "execution_count": 31,
   "id": "400aeeb9",
   "metadata": {},
   "outputs": [
    {
     "data": {
      "text/plain": [
       "{'question': 'How far is moon from the Earth ?',\n",
       " 'answer': \"The distance between the Earth and the Moon is not constant because the Moon's orbit is elliptical.  However, the average distance is about **238,855 miles (384,400 kilometers)**.\"}"
      ]
     },
     "execution_count": 31,
     "metadata": {},
     "output_type": "execute_result"
    }
   ],
   "source": [
    "final_call"
   ]
  }
 ],
 "metadata": {
  "kernelspec": {
   "display_name": "myenv",
   "language": "python",
   "name": "python3"
  },
  "language_info": {
   "codemirror_mode": {
    "name": "ipython",
    "version": 3
   },
   "file_extension": ".py",
   "mimetype": "text/x-python",
   "name": "python",
   "nbconvert_exporter": "python",
   "pygments_lexer": "ipython3",
   "version": "3.13.5"
  }
 },
 "nbformat": 4,
 "nbformat_minor": 5
}
