{
 "cells": [
  {
   "cell_type": "markdown",
   "id": "46aea92e",
   "metadata": {},
   "source": [
    "install Lib"
   ]
  },
  {
   "cell_type": "code",
   "execution_count": 25,
   "id": "2abb52f8",
   "metadata": {},
   "outputs": [],
   "source": [
    "from langgraph.graph import StateGraph, START, END\n",
    "from typing import TypedDict"
   ]
  },
  {
   "cell_type": "markdown",
   "id": "988316a1",
   "metadata": {},
   "source": [
    "#### 1. State"
   ]
  },
  {
   "cell_type": "code",
   "execution_count": 26,
   "id": "da4a843f",
   "metadata": {},
   "outputs": [],
   "source": [
    "class BMIState(TypedDict):\n",
    "  weight_kg: float\n",
    "  height_m:float\n",
    "  bmi:float\n",
    "  category:str"
   ]
  },
  {
   "cell_type": "markdown",
   "id": "d86bb8ed",
   "metadata": {},
   "source": [
    "CalculateBMI"
   ]
  },
  {
   "cell_type": "code",
   "execution_count": 27,
   "id": "c18da626",
   "metadata": {},
   "outputs": [],
   "source": [
    "def calucalteBMI(state: BMIState)->BMIState:\n",
    "  weight = state['weight_kg']\n",
    "  height = state['height_m']\n",
    "  bmi = weight/(height**2)\n",
    "  state[\"bmi\"] = round(bmi, 2)\n",
    "\n",
    "  return state"
   ]
  },
  {
   "cell_type": "markdown",
   "id": "73f2fbba",
   "metadata": {},
   "source": [
    "CalculateBMILabel"
   ]
  },
  {
   "cell_type": "code",
   "execution_count": 28,
   "id": "0e823f57",
   "metadata": {},
   "outputs": [],
   "source": [
    "def calculateBMILabel(state: BMIState)->BMIState:\n",
    "  bmi = state['bmi']\n",
    "\n",
    "  if bmi <18.5:\n",
    "    state['category'] = \"UnderWeight\"\n",
    "  elif 18.5 <= bmi < 25:\n",
    "    state['category'] = \"Normal\"\n",
    "  elif 25 <= bmi < 30:\n",
    "    state['category'] = \"OverWeight\"\n",
    "  else:\n",
    "    state['category'] = \"Obese\"\n",
    "\n",
    "  return state"
   ]
  },
  {
   "cell_type": "markdown",
   "id": "c6bea036",
   "metadata": {},
   "source": [
    "#### 2. Graph"
   ]
  },
  {
   "cell_type": "code",
   "execution_count": 29,
   "id": "05d4d05c",
   "metadata": {},
   "outputs": [],
   "source": [
    "# 1. Define the Graph\n",
    "graph = StateGraph(BMIState)\n",
    "\n",
    "# 2. add the NODE in the Graph\n",
    "graph.add_node('CalculateBMI', calucalteBMI)\n",
    "graph.add_node('CalculateBMILabel', calculateBMILabel)\n",
    "\n",
    "# 3. add the EDGE in the Graph\n",
    "graph.add_edge(START, 'CalculateBMI')\n",
    "graph.add_edge('CalculateBMI', 'CalculateBMILabel')\n",
    "graph.add_edge('CalculateBMILabel', END)\n",
    "\n",
    "# 4. COMPILE the graph\n",
    "workflow = graph.compile()\n",
    "\n",
    "# 5. EXECUTE the graph\n",
    "finalState = workflow.invoke({'weight_kg':80, 'height_m':1.73})"
   ]
  },
  {
   "cell_type": "code",
   "execution_count": 30,
   "id": "20e69104",
   "metadata": {},
   "outputs": [
    {
     "data": {
      "text/plain": [
       "{'weight_kg': 80, 'height_m': 1.73, 'bmi': 26.73, 'category': 'OverWeight'}"
      ]
     },
     "execution_count": 30,
     "metadata": {},
     "output_type": "execute_result"
    }
   ],
   "source": [
    "finalState"
   ]
  },
  {
   "cell_type": "markdown",
   "id": "8f6d552b",
   "metadata": {},
   "source": [
    "#### Visualize the workflow"
   ]
  },
  {
   "cell_type": "code",
   "execution_count": 31,
   "id": "de3155b9",
   "metadata": {},
   "outputs": [
    {
     "data": {
      "image/png": "[encoded data removed]",
      "text/plain": [
       "<IPython.core.display.Image object>"
      ]
     },
     "execution_count": 31,
     "metadata": {},
     "output_type": "execute_result"
    }
   ],
   "source": [
    "from IPython.display import Image\n",
    "Image(workflow.get_graph().draw_mermaid_png())"
   ]
  }
 ],
 "metadata": {
  "kernelspec": {
   "display_name": "myenv",
   "language": "python",
   "name": "python3"
  },
  "language_info": {
   "codemirror_mode": {
    "name": "ipython",
    "version": 3
   },
   "file_extension": ".py",
   "mimetype": "text/x-python",
   "name": "python",
   "nbconvert_exporter": "python",
   "pygments_lexer": "ipython3",
   "version": "3.13.5"
  }
 },
 "nbformat": 4,
 "nbformat_minor": 5
}
