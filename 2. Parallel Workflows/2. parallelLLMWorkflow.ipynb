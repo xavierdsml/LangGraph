{
 "cells": [
  {
   "cell_type": "markdown",
   "id": "17847b0d",
   "metadata": {},
   "source": [
    "Import Lib"
   ]
  },
  {
   "cell_type": "code",
   "execution_count": 160,
   "id": "14fbe9a1",
   "metadata": {},
   "outputs": [],
   "source": [
    "from langgraph.graph import StateGraph, START, END\n",
    "from langchain_google_genai import ChatGoogleGenerativeAI\n",
    "from dotenv import load_dotenv\n",
    "from typing import TypedDict, Annotated\n",
    "from pydantic import BaseModel, Field\n",
    "import operator"
   ]
  },
  {
   "cell_type": "code",
   "execution_count": 161,
   "id": "7487fe80",
   "metadata": {},
   "outputs": [
    {
     "data": {
      "text/plain": [
       "True"
      ]
     },
     "execution_count": 161,
     "metadata": {},
     "output_type": "execute_result"
    }
   ],
   "source": [
    "load_dotenv()"
   ]
  },
  {
   "cell_type": "code",
   "execution_count": 162,
   "id": "7b6b1b22",
   "metadata": {},
   "outputs": [],
   "source": [
    "model = ChatGoogleGenerativeAI(\n",
    "    model=\"gemini-1.5-flash\",\n",
    "    temperature=0.7\n",
    ")"
   ]
  },
  {
   "cell_type": "markdown",
   "id": "ab92dc33",
   "metadata": {},
   "source": [
    "##### Make the Model structure"
   ]
  },
  {
   "cell_type": "code",
   "execution_count": 163,
   "id": "6f2a414d",
   "metadata": {},
   "outputs": [],
   "source": [
    "class EvalutionSchema(BaseModel):\n",
    "  feedback: str = Field(description=\"Deatiled feedback for the essay\")\n",
    "  score: int = Field(description=\"Score out of 10\", ge=0,le=10)"
   ]
  },
  {
   "cell_type": "code",
   "execution_count": 164,
   "id": "9117d4fb",
   "metadata": {},
   "outputs": [],
   "source": [
    "structureModel = model.with_structured_output(EvalutionSchema)"
   ]
  },
  {
   "cell_type": "code",
   "execution_count": 165,
   "id": "4546a7b3",
   "metadata": {},
   "outputs": [],
   "source": [
    "essay = \"\"\" The Role of Artificial Intelligence in Today’s World\n",
    "\n",
    "Artificial Intelligence (AI) has become one of the most transformative technologies of the modern era. From smartphones to healthcare systems, AI is embedded in almost every aspect of our daily lives, shaping the way we work, communicate, and solve problems.\n",
    "\n",
    "One of the most noticeable impacts of AI is in automation. Machines and algorithms now perform tasks that once required human effort, such as customer service through chatbots, fraud detection in banking, and recommendation systems on platforms like YouTube, Amazon, and Netflix. These AI-driven tools save time, reduce errors, and improve efficiency.\n",
    "\n",
    "In healthcare, AI is helping doctors diagnose diseases earlier and more accurately. For example, deep learning models can detect tumors in medical scans, and predictive analytics can suggest personalized treatments. Similarly, in education, AI-powered platforms are offering personalized learning experiences to students worldwide, making quality education more accessible.\n",
    "\n",
    "AI is also reshaping industries like transportation with self-driving cars, agriculture with smart farming technologies, and finance with automated trading systems. At the same time, AI is empowering individuals through virtual assistants such as Siri, Alexa, and Google Assistant, making everyday life more convenient.\n",
    "\n",
    "However, the rapid growth of AI also raises ethical concerns. Issues such as job displacement, data privacy, bias in algorithms, and the potential misuse of AI technologies highlight the need for responsible development and regulation. Society must ensure that AI is used for the greater good while minimizing risks.\n",
    "\n",
    "In conclusion, AI is no longer just a futuristic concept but a present-day reality. It is revolutionizing industries, improving human lives, and opening new possibilities. With careful management and ethical use, AI can serve as a powerful tool to build a smarter, more efficient, and inclusive world.\n",
    "\"\"\""
   ]
  },
  {
   "cell_type": "code",
   "execution_count": 166,
   "id": "4b72fd10",
   "metadata": {},
   "outputs": [
    {
     "data": {
      "text/plain": [
       "EvalutionSchema(feedback='The essay is well-written and easy to understand. The arguments are clear and concise, and the supporting evidence is strong. The essay is well-organized and flows smoothly from one point to another. The conclusion is well-written and summarizes the main points of the essay.', score=9)"
      ]
     },
     "execution_count": 166,
     "metadata": {},
     "output_type": "execute_result"
    }
   ],
   "source": [
    "prompt = 'Evalute the language quality of the following essay and provide a feedback & assign a score out of 10 {essay}'\n",
    "structureModel.invoke(prompt)"
   ]
  },
  {
   "cell_type": "markdown",
   "id": "5e4a7269",
   "metadata": {},
   "source": [
    "### WorkFlow"
   ]
  },
  {
   "cell_type": "markdown",
   "id": "954d417c",
   "metadata": {},
   "source": [
    "#### 1. State"
   ]
  },
  {
   "cell_type": "code",
   "execution_count": 167,
   "id": "2dfaee9e",
   "metadata": {},
   "outputs": [],
   "source": [
    "class UPSCeassyState(TypedDict):\n",
    "  eassyInput:str\n",
    "  COAFeedback:str\n",
    "  DOAFeedback:str\n",
    "  LanguageFeedback:str\n",
    "  overallFeedback:str\n",
    "  individualScore:Annotated[list[int],operator.add]\n",
    "  avgScore:float"
   ]
  },
  {
   "cell_type": "markdown",
   "id": "bf654c8d",
   "metadata": {},
   "source": [
    "#### 2. Graph"
   ]
  },
  {
   "cell_type": "markdown",
   "id": "8b3c5c07",
   "metadata": {},
   "source": [
    "##### 2.1 Creating the Node"
   ]
  },
  {
   "cell_type": "code",
   "execution_count": 168,
   "id": "295a60e4",
   "metadata": {},
   "outputs": [],
   "source": [
    "def COAFeedback(state:UPSCeassyState)->UPSCeassyState:\n",
    "  prompt = f\"Evalute the clarity of thought quality of the following essay and provide a feedback & assign a score out of 10 {state['eassyInput']}\"\n",
    "  \n",
    "  output = structureModel.invoke(prompt)\n",
    "  return {'COAFeedback':output.feedback, 'individualScore':[output.score]}\n"
   ]
  },
  {
   "cell_type": "code",
   "execution_count": 169,
   "id": "fa9eabc9",
   "metadata": {},
   "outputs": [],
   "source": [
    "def DOAFeedback(state:UPSCeassyState)->UPSCeassyState:\n",
    "  prompt = f\"Evalute the Depth of analysis quality of the following essay and provide a feedback & assign a score out of 10 {state['eassyInput']}\"\n",
    "  \n",
    "  output = structureModel.invoke(prompt)\n",
    "  return {'DOAFeedback':output.feedback, 'individualScore':[output.score]}\n"
   ]
  },
  {
   "cell_type": "code",
   "execution_count": 170,
   "id": "fa618681",
   "metadata": {},
   "outputs": [],
   "source": [
    "def LanguageFeedback(state:UPSCeassyState)->UPSCeassyState:\n",
    "  prompt = f\"Evalute the language quality of the following essay and provide a feedback & assign a score out of 10 {state['eassyInput']}\"\n",
    "  \n",
    "  output = structureModel.invoke(prompt)\n",
    "  return {'LanguageFeedback':output.feedback, 'individualScore':[output.score]}\n"
   ]
  },
  {
   "cell_type": "code",
   "execution_count": 171,
   "id": "8731068c",
   "metadata": {},
   "outputs": [],
   "source": [
    "def overallFeedback(state:UPSCeassyState)->UPSCeassyState:\n",
    "\n",
    "   # summary feedback\n",
    "   prompt = f\"Based on the following feedback, create the summarize feedback of all language which have LanguageFeedback {state['LanguageFeedback']},\\n the clarity of depth feedback is {state['COAFeedback']}\\n & the last which is\\n Depth of Analysis {state['DOAFeedback']}\"\n",
    "   \n",
    "   overallFeedbackAns = model.invoke(prompt).content\n",
    "\n",
    "   # avg calculate\n",
    "   avgScore = sum(state['individualScore']) / len(state['individualScore']) if state['individualScore'] else 0\n",
    "\n",
    "   return {'overallFeedback':overallFeedbackAns, 'avgScore':avgScore}"
   ]
  },
  {
   "cell_type": "markdown",
   "id": "09c931f3",
   "metadata": {},
   "source": [
    "#### 2.2 Defining the Graph"
   ]
  },
  {
   "cell_type": "code",
   "execution_count": 172,
   "id": "fe76984f",
   "metadata": {},
   "outputs": [],
   "source": [
    "graph = StateGraph(UPSCeassyState)\n",
    "\n",
    "graph.add_node('COAFeedback', COAFeedback)\n",
    "graph.add_node('DOAFeedback', DOAFeedback)\n",
    "graph.add_node('LanguageFeedback', LanguageFeedback)\n",
    "graph.add_node('overallFeedback', overallFeedback)\n",
    "\n",
    "graph.add_edge(START, 'COAFeedback')\n",
    "graph.add_edge(START, 'DOAFeedback')\n",
    "graph.add_edge(START, 'LanguageFeedback')\n",
    "graph.add_edge('COAFeedback', 'overallFeedback')\n",
    "graph.add_edge('DOAFeedback', 'overallFeedback')\n",
    "graph.add_edge('LanguageFeedback', 'overallFeedback')\n",
    "graph.add_edge('overallFeedback', END)\n",
    "\n",
    "workflow = graph.compile()"
   ]
  },
  {
   "cell_type": "markdown",
   "id": "adf39bfc",
   "metadata": {},
   "source": [
    "##### 2.3 Show the Workflow"
   ]
  },
  {
   "cell_type": "code",
   "execution_count": null,
   "id": "814b9f75",
   "metadata": {},
   "outputs": [],
   "source": [
    "workflow"
   ]
  },
  {
   "cell_type": "markdown",
   "id": "3e3c5704",
   "metadata": {},
   "source": [
    "##### 2.3 Execute the Workflow"
   ]
  },
  {
   "cell_type": "code",
   "execution_count": 173,
   "id": "51e56a55",
   "metadata": {},
   "outputs": [
    {
     "data": {
      "text/plain": [
       "{'eassyInput': ' The Role of Artificial Intelligence in Today’s World\\n\\nArtificial Intelligence (AI) has become one of the most transformative technologies of the modern era. From smartphones to healthcare systems, AI is embedded in almost every aspect of our daily lives, shaping the way we work, communicate, and solve problems.\\n\\nOne of the most noticeable impacts of AI is in automation. Machines and algorithms now perform tasks that once required human effort, such as customer service through chatbots, fraud detection in banking, and recommendation systems on platforms like YouTube, Amazon, and Netflix. These AI-driven tools save time, reduce errors, and improve efficiency.\\n\\nIn healthcare, AI is helping doctors diagnose diseases earlier and more accurately. For example, deep learning models can detect tumors in medical scans, and predictive analytics can suggest personalized treatments. Similarly, in education, AI-powered platforms are offering personalized learning experiences to students worldwide, making quality education more accessible.\\n\\nAI is also reshaping industries like transportation with self-driving cars, agriculture with smart farming technologies, and finance with automated trading systems. At the same time, AI is empowering individuals through virtual assistants such as Siri, Alexa, and Google Assistant, making everyday life more convenient.\\n\\nHowever, the rapid growth of AI also raises ethical concerns. Issues such as job displacement, data privacy, bias in algorithms, and the potential misuse of AI technologies highlight the need for responsible development and regulation. Society must ensure that AI is used for the greater good while minimizing risks.\\n\\nIn conclusion, AI is no longer just a futuristic concept but a present-day reality. It is revolutionizing industries, improving human lives, and opening new possibilities. With careful management and ethical use, AI can serve as a powerful tool to build a smarter, more efficient, and inclusive world.\\n',\n",
       " 'COAFeedback': \"The essay presents a clear and well-structured overview of the role of AI in today's world.  The points are logically organized, transitioning smoothly between the positive impacts (automation, healthcare, education, various industries) and the ethical concerns. The language is concise and accessible to a broad audience.  Minor improvements could include providing specific examples of AI bias or misuse to strengthen the ethical concerns section.  The conclusion effectively summarizes the main points.\",\n",
       " 'DOAFeedback': \"The essay provides a good overview of AI's impact across various sectors, touching upon automation, healthcare, education, and ethical concerns.  However, the analysis lacks depth.  While it mentions specific applications, it doesn't delve into the complexities or nuances of these applications. For example, the discussion of AI in healthcare could benefit from exploring the challenges of data bias in diagnostic tools or the limitations of current AI capabilities. Similarly, the ethical concerns are raised but not thoroughly examined.  To improve, the essay should delve deeper into specific examples, exploring both the benefits and drawbacks in more detail. A comparative analysis of different AI approaches or a discussion of specific policy implications would significantly enhance the depth of analysis. \",\n",
       " 'LanguageFeedback': \"The essay is well-written and well-structured. It provides a comprehensive overview of the role of AI in today's world, covering its impact on various industries and addressing ethical concerns. The language is clear, concise, and easy to understand. Minor improvements could be made by adding specific examples to support some of the claims and by expanding on the ethical concerns to provide a more in-depth analysis. Overall, it's a well-thought-out and informative essay.\",\n",
       " 'overallFeedback': \"The essay presents a clear, well-structured, and concise overview of AI's role in today's world, covering its impact across various sectors and raising important ethical concerns.  The language is accessible and easy to understand.  However, the analysis lacks depth. While the essay touches upon key areas, it needs more specific examples and a deeper exploration of the complexities and nuances of AI applications, particularly regarding ethical concerns and the potential drawbacks in various sectors (e.g., data bias in healthcare).  Expanding on these points, perhaps through comparative analysis or discussion of policy implications, would significantly improve the essay's overall impact.\",\n",
       " 'individualScore': [8, 6, 8],\n",
       " 'avgScore': 7.333333333333333}"
      ]
     },
     "execution_count": 173,
     "metadata": {},
     "output_type": "execute_result"
    }
   ],
   "source": [
    "initalState = {\n",
    "  'eassyInput':essay\n",
    "}\n",
    "\n",
    "workflow.invoke(initalState)"
   ]
  }
 ],
 "metadata": {
  "kernelspec": {
   "display_name": "myenv",
   "language": "python",
   "name": "python3"
  },
  "language_info": {
   "codemirror_mode": {
    "name": "ipython",
    "version": 3
   },
   "file_extension": ".py",
   "mimetype": "text/x-python",
   "name": "python",
   "nbconvert_exporter": "python",
   "pygments_lexer": "ipython3",
   "version": "3.13.5"
  }
 },
 "nbformat": 4,
 "nbformat_minor": 5
}
