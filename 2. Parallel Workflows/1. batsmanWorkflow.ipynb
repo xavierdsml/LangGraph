{
 "cells": [
  {
   "cell_type": "code",
   "execution_count": 42,
   "id": "c14b59e5",
   "metadata": {},
   "outputs": [],
   "source": [
    "from langgraph.graph import StateGraph , START, END\n",
    "from typing import TypedDict"
   ]
  },
  {
   "cell_type": "markdown",
   "id": "1e0640c1",
   "metadata": {},
   "source": [
    "#### 1. State"
   ]
  },
  {
   "cell_type": "code",
   "execution_count": 43,
   "id": "6d6cbaed",
   "metadata": {},
   "outputs": [],
   "source": [
    "class batsmanState(TypedDict):\n",
    "  runs:int\n",
    "  balls:int\n",
    "  fours:int\n",
    "  sixes:int\n",
    "\n",
    "  strikeRate:float\n",
    "  runsInBoundaryPer:float\n",
    "  ballsPerBoundary:float\n",
    "  summary:str\n"
   ]
  },
  {
   "cell_type": "markdown",
   "id": "49532544",
   "metadata": {},
   "source": [
    "Function that have state output"
   ]
  },
  {
   "cell_type": "code",
   "execution_count": 44,
   "id": "9fda74af",
   "metadata": {},
   "outputs": [],
   "source": [
    "def strikeRate(state:batsmanState)->batsmanState:\n",
    "\n",
    "  strikeRate = (state['runs'] / state['balls']) * 100 if state['balls'] > 0 else 0\n",
    "  \n",
    "  return {'strikeRate': strikeRate}"
   ]
  },
  {
   "cell_type": "code",
   "execution_count": 45,
   "id": "21abaf91",
   "metadata": {},
   "outputs": [],
   "source": [
    "def runsInBoundaryPer(state:batsmanState)->batsmanState:\n",
    "\n",
    "  runsInBoundary = (state['fours'] * 4) + (state['sixes'] * 6)\n",
    "  runsInBoundaryPer = (runsInBoundary / state['runs'] * 100) if state['runs'] > 0 else 0\n",
    "\n",
    "  return {'runsInBoundaryPer':runsInBoundaryPer}"
   ]
  },
  {
   "cell_type": "code",
   "execution_count": 46,
   "id": "84f60114",
   "metadata": {},
   "outputs": [],
   "source": [
    "def ballsPerBoundary(state:batsmanState)->batsmanState:\n",
    "\n",
    "  boundaries = state['fours'] + state['sixes']\n",
    "  ballsPerBoundary = (state['balls'] / boundaries) if boundaries > 0 else float('inf')\n",
    "\n",
    "  return {'ballsPerBoundary':ballsPerBoundary}"
   ]
  },
  {
   "cell_type": "code",
   "execution_count": 47,
   "id": "976a3da2",
   "metadata": {},
   "outputs": [],
   "source": [
    "def summary(state:batsmanState)->batsmanState:\n",
    "  \n",
    "  summary = f\"\"\"\n",
    "Strike rate - {state['strikeRate']}\n",
    "Run's in Boundary Percenage - {state['runsInBoundaryPer']}\n",
    "Ball Per Boundary - {state['ballsPerBoundary']}\n",
    "\"\"\"\n",
    "  \n",
    "  return {'summary':summary}"
   ]
  },
  {
   "cell_type": "markdown",
   "id": "b4c22a31",
   "metadata": {},
   "source": [
    "#### 2. Graph"
   ]
  },
  {
   "cell_type": "code",
   "execution_count": 48,
   "id": "f28efa9f",
   "metadata": {},
   "outputs": [
    {
     "data": {
      "image/png": "[encoded data removed]",
      "text/plain": [
       "<langgraph.graph.state.CompiledStateGraph object at 0x0000020864FC9E50>"
      ]
     },
     "execution_count": 48,
     "metadata": {},
     "output_type": "execute_result"
    }
   ],
   "source": [
    "graph = StateGraph(batsmanState)\n",
    "\n",
    "graph.add_node('strikeRate', strikeRate)\n",
    "graph.add_node('runsInBoundaryPer', runsInBoundaryPer)\n",
    "graph.add_node('ballsPerBoundary', ballsPerBoundary)\n",
    "graph.add_node('summary', summary)\n",
    "\n",
    "graph.add_edge(START, 'strikeRate')\n",
    "graph.add_edge(START, 'runsInBoundaryPer')\n",
    "graph.add_edge(START, 'ballsPerBoundary')\n",
    "\n",
    "graph.add_edge('strikeRate', 'summary')\n",
    "graph.add_edge('runsInBoundaryPer', 'summary')\n",
    "graph.add_edge('ballsPerBoundary', 'summary')\n",
    "\n",
    "graph.add_edge('summary', END)\n",
    "\n",
    "workflow = graph.compile()\n",
    "workflow"
   ]
  },
  {
   "cell_type": "markdown",
   "id": "81606439",
   "metadata": {},
   "source": [
    "#### Result"
   ]
  },
  {
   "cell_type": "code",
   "execution_count": 49,
   "id": "3a93aecc",
   "metadata": {},
   "outputs": [
    {
     "data": {
      "text/plain": [
       "{'runs': 100,\n",
       " 'balls': 50,\n",
       " 'fours': 6,\n",
       " 'sixes': 4,\n",
       " 'strikeRate': 200.0,\n",
       " 'runsInBoundaryPer': 48.0,\n",
       " 'ballsPerBoundary': 5.0,\n",
       " 'summary': \"\\nStrike rate - 200.0\\nRun's in Boundary Percenage - 48.0\\nBall Per Boundary - 5.0\\n\"}"
      ]
     },
     "execution_count": 49,
     "metadata": {},
     "output_type": "execute_result"
    }
   ],
   "source": [
    "initalState = {\n",
    "  'runs': 100,\n",
    "  'balls': 50,\n",
    "  'fours': 6,\n",
    "  'sixes': 4\n",
    "}\n",
    "\n",
    "workflow.invoke(initalState)"
   ]
  }
 ],
 "metadata": {
  "kernelspec": {
   "display_name": "myenv",
   "language": "python",
   "name": "python3"
  },
  "language_info": {
   "codemirror_mode": {
    "name": "ipython",
    "version": 3
   },
   "file_extension": ".py",
   "mimetype": "text/x-python",
   "name": "python",
   "nbconvert_exporter": "python",
   "pygments_lexer": "ipython3",
   "version": "3.13.5"
  }
 },
 "nbformat": 4,
 "nbformat_minor": 5
}
